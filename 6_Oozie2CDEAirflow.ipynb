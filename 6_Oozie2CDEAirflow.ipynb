{
 "cells": [
  {
   "cell_type": "markdown",
   "id": "cc821eca-d455-4b3e-9724-1e1165601375",
   "metadata": {},
   "source": [
    "## Migrating Oozie Workflows to Airflow CDE DAGs"
   ]
  },
  {
   "cell_type": "code",
   "execution_count": 1,
   "id": "f2694c89-d7b2-48d7-97bf-c6880fe647ff",
   "metadata": {},
   "outputs": [],
   "source": [
    "import numpy as np\n",
    "import pandas as pd\n",
    "import os\n",
    "from os.path import exists\n",
    "import json\n",
    "import sys\n",
    "import re\n",
    "import requests\n",
    "from requests_toolbelt import MultipartEncoder\n",
    "import xmltodict as xd\n",
    "import pyparsing"
   ]
  },
  {
   "cell_type": "markdown",
   "id": "96bf7eef-027e-41dd-b52c-5a289b4ce59f",
   "metadata": {},
   "source": [
    "#### Converting Oozie Actions to Airflow Bash Operators"
   ]
  },
  {
   "cell_type": "code",
   "execution_count": 2,
   "id": "e1fc1485-50af-4644-99e2-043083eeffe2",
   "metadata": {},
   "outputs": [],
   "source": [
    "def ooziexml_to_dict(oozie_workflow_path):\n",
    "\n",
    "    #\"oozie_workflows/oozie_hive_workflow_with_properties\"\n",
    "    \n",
    "    #Ensuring there is only one workflow xml file in the dir\n",
    "    if len([file for file in os.listdir(oozie_workflow_path) if \".xml\" in file]) == 1:\n",
    "    \n",
    "        #Parsing properties file\n",
    "        for file in os.listdir(oozie_workflow_path):\n",
    "            if \".xml\" in file:\n",
    "                print(\"Oozie workflow file {} found\".format(file))\n",
    "                with open(oozie_workflow_path+\"/\"+file,'rb') as f:\n",
    "                    d = xd.parse(f)\n",
    "                    return d\n",
    "                \n",
    "    elif len([file for file in os.listdir(oozie_workflow_path) if \".xml\" in file]) == 0:\n",
    "        \n",
    "        print(\"No Oozie workflow file found.\\n\")\n",
    "        print(\"If Oozie workflow file is expected, please ensure it is in the workflow directory.\\n\")\n",
    "        print(\"If Oozie workflow file is not expected, please ignore this message.\\n\")\n",
    "        \n",
    "    else:\n",
    "              \n",
    "        print(\"Error. Only one Oozie workflow file per workflow directory expected.\\n\")\n",
    "        print(\"Please remove the Oozie workflow file that is not associated with this project.\\n\")"
   ]
  },
  {
   "cell_type": "code",
   "execution_count": 3,
   "id": "469c515e-b1bf-42cd-8254-815cd335b80d",
   "metadata": {},
   "outputs": [],
   "source": [
    "def parse_workflow_properties(oozie_workflow_path):\n",
    "    \n",
    "    #\"oozie_workflows/oozie_hive_workflow_with_properties\"\n",
    "    \n",
    "    #Ensuring there is only one properties file in the dir\n",
    "    if len([file for file in os.listdir(oozie_workflow_path) if \".properties\" in file]) == 1:\n",
    "    \n",
    "        #Parsing properties file\n",
    "        for file in os.listdir(oozie_workflow_path):\n",
    "            if \".properties\" in file:\n",
    "                print(\"Properties file {} found\".format(file))\n",
    "                with open(oozie_workflow_path+\"/\"+file) as f:\n",
    "                    properties_file = f.read()\n",
    "                    properties_dict = dict([tuple(i.split(\"=\")) for i in properties_file.split(\"\\n\") if len(tuple(i.split(\"=\"))) > 1])\n",
    "                    properties_dict = {x.replace(' ', ''): v.replace(' ','') for x, v in properties_dict.items()}\n",
    "                    \n",
    "                    return properties_dict\n",
    "                    \n",
    "    elif len([file for file in os.listdir(oozie_workflow_path) if \".properties\" in file]) == 0:\n",
    "        \n",
    "        print(\"No properties file found.\\n\")\n",
    "        print(\"If properties file is expected, please ensure it is in the workflow directory.\\n\")\n",
    "        print(\"If properties file is not expected, please ignore this message.\\n\")\n",
    "        \n",
    "    else:\n",
    "              \n",
    "        print(\"Error. Only one properties file per workflow directory expected.\\n\")\n",
    "        print(\"Please remove the properties file that is not associated with this workflow.\\n\")"
   ]
  },
  {
   "cell_type": "code",
   "execution_count": 4,
   "id": "a5c8d687-0846-41cc-b7c3-99191a0e05dd",
   "metadata": {},
   "outputs": [
    {
     "name": "stdout",
     "output_type": "stream",
     "text": [
      "Oozie workflow file hive_properties_workflow.xml found\n"
     ]
    },
    {
     "data": {
      "text/plain": [
       "{'workflow-app': {'@xmlns': 'uri:oozie:workflow:0.4',\n",
       "  '@name': 'simple-Workflow',\n",
       "  'start': {'@to': 'Create_External_Table'},\n",
       "  'action': [{'@name': 'Create_External_Table',\n",
       "    'hive': {'@xmlns': 'uri:oozie:hive-action:0.4',\n",
       "     'job-tracker': '${jobTracker}',\n",
       "     'name-node': '${nameNode}',\n",
       "     'script': '${script_name_external}'},\n",
       "    'ok': {'@to': 'Create_orc_Table'},\n",
       "    'error': {'@to': 'kill_job'}},\n",
       "   {'@name': 'Create_orc_Table',\n",
       "    'hive': {'@xmlns': 'uri:oozie:hive-action:0.4',\n",
       "     'job-tracker': '${jobTracker}',\n",
       "     'name-node': '${nameNode}',\n",
       "     'script': '${script_name_orc}'},\n",
       "    'ok': {'@to': 'Insert_into_Table'},\n",
       "    'error': {'@to': 'kill_job'}},\n",
       "   {'@name': 'Insert_into_Table',\n",
       "    'hive': {'@xmlns': 'uri:oozie:hive-action:0.4',\n",
       "     'job-tracker': '${jobTracker}',\n",
       "     'name-node': '${nameNode}',\n",
       "     'script': '${script_name_copy}',\n",
       "     'param': '${database}'},\n",
       "    'ok': {'@to': 'end'},\n",
       "    'error': {'@to': 'kill_job'}}],\n",
       "  'kill': {'@name': 'kill_job', 'message': 'Job failed'},\n",
       "  'end': {'@name': 'end'}}}"
      ]
     },
     "execution_count": 4,
     "metadata": {},
     "output_type": "execute_result"
    }
   ],
   "source": [
    "d = ooziexml_to_dict(\"oozie_workflows/oozie_hive_workflow_with_properties\")\n",
    "d"
   ]
  },
  {
   "cell_type": "code",
   "execution_count": 5,
   "id": "e691bfcf-6616-42ff-9ea5-db65bc87aa7a",
   "metadata": {},
   "outputs": [
    {
     "name": "stdout",
     "output_type": "stream",
     "text": [
      "Properties file job1.properties found\n"
     ]
    },
    {
     "data": {
      "text/plain": [
       "{'nameNode': 'hdfs://rootname',\n",
       " 'jobTracker': 'xyz.com:8088',\n",
       " 'script_name_external': 'oozie_workflows/oozie_hive_workflow_with_properties/external.hive',\n",
       " 'script_name_orc': 'oozie_workflows/oozie_hive_workflow_with_properties/orc.hive',\n",
       " 'script_name_copy': 'oozie_workflows/oozie_hive_workflow_with_properties/Copydata.hive',\n",
       " 'database_name': 'default'}"
      ]
     },
     "execution_count": 5,
     "metadata": {},
     "output_type": "execute_result"
    }
   ],
   "source": [
    "props = parse_workflow_properties(\"oozie_workflows/oozie_hive_workflow_with_properties\")\n",
    "props"
   ]
  },
  {
   "cell_type": "code",
   "execution_count": 6,
   "id": "6c25b863-e059-4f7f-80f6-672727a5ebd9",
   "metadata": {},
   "outputs": [],
   "source": [
    "def workflow_properties_lookup(d, props):\n",
    "    \n",
    "    #Property value lookup \n",
    "    string = json.dumps(d)\n",
    "\n",
    "    for k, v in props.items():\n",
    "        string = string.replace(k, v)\n",
    "\n",
    "    #Removing unwanted characters\n",
    "    subbed = re.sub(r'\"\\${(.*?)}\"', r'\"\\1\"', string)\n",
    "    parsed_xml = json.loads(subbed)\n",
    "    return parsed_xml"
   ]
  },
  {
   "cell_type": "code",
   "execution_count": 7,
   "id": "f97b123e-04c1-43cb-b31f-64833f0cf895",
   "metadata": {},
   "outputs": [
    {
     "data": {
      "text/plain": [
       "{'workflow-app': {'@xmlns': 'uri:oozie:workflow:0.4',\n",
       "  '@name': 'simple-Workflow',\n",
       "  'start': {'@to': 'Create_External_Table'},\n",
       "  'action': [{'@name': 'Create_External_Table',\n",
       "    'hive': {'@xmlns': 'uri:oozie:hive-action:0.4',\n",
       "     'job-tracker': 'xyz.com:8088',\n",
       "     'name-node': 'hdfs://rootname',\n",
       "     'script': 'oozie_workflows/oozie_hive_workflow_with_properties/external.hive'},\n",
       "    'ok': {'@to': 'Create_orc_Table'},\n",
       "    'error': {'@to': 'kill_job'}},\n",
       "   {'@name': 'Create_orc_Table',\n",
       "    'hive': {'@xmlns': 'uri:oozie:hive-action:0.4',\n",
       "     'job-tracker': 'xyz.com:8088',\n",
       "     'name-node': 'hdfs://rootname',\n",
       "     'script': 'oozie_workflows/oozie_hive_workflow_with_properties/orc.hive'},\n",
       "    'ok': {'@to': 'Insert_into_Table'},\n",
       "    'error': {'@to': 'kill_job'}},\n",
       "   {'@name': 'Insert_into_Table',\n",
       "    'hive': {'@xmlns': 'uri:oozie:hive-action:0.4',\n",
       "     'job-tracker': 'xyz.com:8088',\n",
       "     'name-node': 'hdfs://rootname',\n",
       "     'script': 'oozie_workflows/oozie_hive_workflow_with_properties/Copydata.hive',\n",
       "     'param': 'database'},\n",
       "    'ok': {'@to': 'end'},\n",
       "    'error': {'@to': 'kill_job'}}],\n",
       "  'kill': {'@name': 'kill_job', 'message': 'Job failed'},\n",
       "  'end': {'@name': 'end'}}}"
      ]
     },
     "execution_count": 7,
     "metadata": {},
     "output_type": "execute_result"
    }
   ],
   "source": [
    "d = workflow_properties_lookup(d, props)\n",
    "d"
   ]
  },
  {
   "cell_type": "code",
   "execution_count": 1,
   "id": "26a21ee5-89c7-4979-9809-e7b7aaba591b",
   "metadata": {},
   "outputs": [],
   "source": [
    "def query_properties_lookup(hive_file_path, hive_file_name, props):\n",
    "    \n",
    "    with open(hive_file_path+\"/\"+hive_file_name, \"r\") as f:\n",
    "        hive_sql = f.read()\n",
    "        cdw_query = hive_sql.replace(\"\\n\", \"\")\n",
    "\n",
    "    print(\"The input Hive query is: \\n\")\n",
    "    print(cdw_query)\n",
    "\n",
    "    for k, v in props.items():\n",
    "        cdw_query = cdw_query.replace(k, v)\n",
    "\n",
    "    #Removing unwanted characters\n",
    "    subbed = re.sub(r'\\${(.*?)}', r'\"\\1\"', cdw_query)\n",
    "\n",
    "    print(\"\\nThe output Hive query is: \\n\")\n",
    "    print(subbed)\n",
    "\n",
    "    with open(hive_file_path+\"/\"+hive_file_name, \"w\") as f:\n",
    "        f.write(subbed)"
   ]
  },
  {
   "cell_type": "code",
   "execution_count": 9,
   "id": "7256413f-fea5-4da4-8a0b-1238d2054e21",
   "metadata": {},
   "outputs": [
    {
     "name": "stdout",
     "output_type": "stream",
     "text": [
      "The input Hive query is: \n",
      "\n",
      "use \"default\"; -- input from Oozieinsert into table orc_tableselectconcat(first_name,' ',last_name) as name,yearofbirth,year(from_unixtime) --yearofbirth as age,address,zipfrom external_table;\n",
      "\n",
      "The output Hive query is: \n",
      "\n",
      "use \"default\"; -- input from Oozieinsert into table orc_tableselectconcat(first_name,' ',last_name) as name,yearofbirth,year(from_unixtime) --yearofbirth as age,address,zipfrom external_table;\n"
     ]
    }
   ],
   "source": [
    "query_properties_lookup(\"oozie_workflows/oozie_hive_workflow_with_properties\", \"Copydata.hive\", props)"
   ]
  },
  {
   "cell_type": "code",
   "execution_count": null,
   "id": "99baeb74-bba7-45eb-95ef-df054761b319",
   "metadata": {},
   "outputs": [],
   "source": []
  },
  {
   "cell_type": "code",
   "execution_count": null,
   "id": "9c1aecdf-eac9-4da2-963c-57ba9343da7e",
   "metadata": {},
   "outputs": [],
   "source": []
  },
  {
   "cell_type": "code",
   "execution_count": null,
   "id": "cee67670-23cd-464d-b2c0-fd365d323333",
   "metadata": {},
   "outputs": [],
   "source": []
  },
  {
   "cell_type": "code",
   "execution_count": null,
   "id": "5fd77957-12ff-4063-a6d8-e15e82060201",
   "metadata": {},
   "outputs": [],
   "source": []
  },
  {
   "cell_type": "code",
   "execution_count": 2,
   "id": "cf738e03-d668-4111-a8cf-24ca1c3005ee",
   "metadata": {},
   "outputs": [],
   "source": [
    "def parse_oozie_workflow(dag_dir, dag_file_name, d):\n",
    "\n",
    "    for action in d['workflow-app']['action']:\n",
    "\n",
    "        print(action)\n",
    "\n",
    "        print(parse_hive_oozie_action(action))\n",
    "        #task_id, step_name, cdw_query = parse_hive_oozie_action(action)\n",
    "\n",
    "        if 'hive' in action.keys():\n",
    "\n",
    "            #Parsing Hive Oozie Action\n",
    "            task_id, step_name, cdw_query = parse_hive_oozie_action(action)\n",
    "\n",
    "            #Converting Hive Oozie Action to CDW Operator and Appending to CDE DAG\n",
    "            append_cdw_operator(dag_dir, dag_file_name,task_id, step_name, cdw_query)\n",
    "\n",
    "        elif 'spark' in action.keys():\n",
    "\n",
    "            #Parsing Spark Oozie Action\n",
    "            task_id, step_name, spark_cde_job_name = parse_spark_oozie_action(action)\n",
    "\n",
    "            #Converting Spark Oozie Action to CDE Operator and Appending to CDE DAG\n",
    "            append_cde_spark_operator(dag_dir, dag_file_name, task_id, step_name, spark_cde_job_name)\n",
    "\n",
    "        elif 'email' in action.keys():\n",
    "\n",
    "            #Parsing Email Oozie Action\n",
    "            task_id, step_name, email_to, email_cc, email_subject, email_body = parse_email_oozie_action(action)\n",
    "\n",
    "            #Converting Email Oozie Action to CDE Airflow Email Operator\n",
    "            append_email_operator(dag_dir, dag_file_name, task_id, step_name, email_to, email_cc, email_subject, email_body)\n",
    "\n",
    "        elif 'shell' in action.keys():\n",
    "\n",
    "            #Parsing Shell Oozie Action\n",
    "            task_id, step_name = parse_shell_oozie_action(a)\n",
    "\n",
    "            #Converting Shell Oozie Action to CDE Airflow Bash Operator\n",
    "            append_bash_operator(dag_dir, dag_file_name, task_id, step_name)\n",
    "\n",
    "        else:\n",
    "            #Converting Unsupported Oozie Action to CDE Airflow Python Operator\n",
    "            append_python_operator(dag_dir, dag_file_name)"
   ]
  },
  {
   "cell_type": "code",
   "execution_count": 118,
   "id": "05e2878e-fe27-499a-ab4a-2fd433d0f107",
   "metadata": {},
   "outputs": [
    {
     "name": "stdout",
     "output_type": "stream",
     "text": [
      "{'@name': 'Create_External_Table', 'hive': {'@xmlns': 'uri:oozie:hive-action:0.4', 'job-tracker': 'xyz.com:8088', 'name-node': 'hdfs://rootname', 'script': 'oozie_workflows/oozie_hive_workflow_with_properties/external.hive'}, 'ok': {'@to': 'Create_orc_Table'}, 'error': {'@to': 'kill_job'}}\n",
      "('Create_External_Table', 'Create_External_Table_Step', \"Create external table external_table(name string,age int,address string,zip int)row format delimitedfields terminated by ','stored as textfilelocation '/test/abc';\")\n",
      "{'@name': 'Create_orc_Table', 'hive': {'@xmlns': 'uri:oozie:hive-action:0.4', 'job-tracker': 'xyz.com:8088', 'name-node': 'hdfs://rootname', 'script': 'oozie_workflows/oozie_hive_workflow_with_properties/orc.hive'}, 'ok': {'@to': 'Insert_into_Table'}, 'error': {'@to': 'kill_job'}}\n",
      "('Create_orc_Table', 'Create_orc_Table_Step', 'Create Table orc_table(name string, -- Concate value of first name and last name with space as seperatoryearofbirth int,age int, -- Current year minus year of birthaddress string,zip int)STORED AS ORC;')\n",
      "{'@name': 'Insert_into_Table', 'hive': {'@xmlns': 'uri:oozie:hive-action:0.4', 'job-tracker': 'xyz.com:8088', 'name-node': 'hdfs://rootname', 'script': 'oozie_workflows/oozie_hive_workflow_with_properties/Copydata.hive', 'param': 'database'}, 'ok': {'@to': 'end'}, 'error': {'@to': 'kill_job'}}\n",
      "('Insert_into_Table', 'Insert_into_Table_Step', 'use \"default\"; -- input from Oozieinsert into table orc_tableselectconcat(first_name,\\' \\',last_name) as name,yearofbirth,year(from_unixtime) --yearofbirth as age,address,zipfrom external_table;')\n"
     ]
    }
   ],
   "source": [
    "parse_oozie_workflow(d)"
   ]
  },
  {
   "cell_type": "code",
   "execution_count": null,
   "id": "2102f513-77a3-4cc3-907b-e0428408994f",
   "metadata": {},
   "outputs": [],
   "source": []
  },
  {
   "cell_type": "code",
   "execution_count": null,
   "id": "5abe79a6-6e83-4910-b77b-d2c673e407ef",
   "metadata": {},
   "outputs": [],
   "source": []
  },
  {
   "cell_type": "code",
   "execution_count": 70,
   "id": "351d278a-12a8-454c-87bb-80cc80ab0e87",
   "metadata": {},
   "outputs": [],
   "source": [
    "def initialize_dag(dag_dir, dag_file_name):\n",
    "    with open(dag_dir+\"/\"+dag_file_name, 'w') as f:\n",
    "        f.write('# The new Airflow DAG')"
   ]
  },
  {
   "cell_type": "code",
   "execution_count": 110,
   "id": "de92bf68-1650-4ad1-83bd-1f752ffddebb",
   "metadata": {},
   "outputs": [],
   "source": [
    "def dag_imports(dag_dir, dag_file_name):\n",
    "    \n",
    "    imports = \"\"\"\\nfrom dateutil import parser\n",
    "    \\nfrom datetime import datetime, timedelta\n",
    "    \\nfrom datetime import timezone\n",
    "    \\nfrom airflow import DAG\n",
    "    \\nfrom airflow.operators.email import EmailOperator\n",
    "    \\nfrom airflow.operators.python_operator import PythonOperator\n",
    "    \\nfrom cloudera.cdp.airflow.operators.cdw_operator import CDWOperator\n",
    "    \\nfrom cloudera.cdp.airflow.operators.cde_operator import CDEJobRunOperator\\n\\n\"\"\"\n",
    "    \n",
    "    with open(dag_dir+\"/\"+dag_file_name, 'a') as f:\n",
    "        f.write(imports)"
   ]
  },
  {
   "cell_type": "code",
   "execution_count": 2,
   "id": "e69beaf4-4188-46f7-8809-0b2be417f07e",
   "metadata": {},
   "outputs": [],
   "source": [
    "def dag_declaration(dag_dir, dag_file_name):\n",
    "    \n",
    "    declaration = \"\"\"default_args = {\n",
    "    'owner': 'your_username_here',\n",
    "    'retry_delay': timedelta(seconds=5),\n",
    "    'depends_on_past': False,\n",
    "    'start_date': parser.isoparse('2021-05-25T07:33:37.393Z').replace(tzinfo=timezone.utc)\n",
    "    }\n",
    "\n",
    "dag = DAG(\n",
    "    'airflow-pipeline-demo',\n",
    "    default_args=default_args,\n",
    "    schedule_interval='@daily',\n",
    "    catchup=False,\n",
    "    is_paused_upon_creation=False\n",
    "    )\\n\\n\"\"\"\n",
    "    \n",
    "    with open(dag_dir+\"/\"+dag_file_name, 'a') as f:\n",
    "        f.write(declaration)"
   ]
  },
  {
   "cell_type": "code",
   "execution_count": 73,
   "id": "142b774f-c655-47f6-b6a0-17a744b6d766",
   "metadata": {},
   "outputs": [],
   "source": [
    "def append_cde_spark_operator(dag_dir, dag_file_name, task_id, step_name, spark_cde_job_name):\n",
    "    \n",
    "    spark_operator = \"\"\"{} = CDEJobRunOperator(\n",
    "    task_id='{}',\n",
    "    dag=dag,\n",
    "    job_name='{}'\n",
    "    )\\n\\n\"\"\".format(step_name, task_id, spark_cde_job_name)\n",
    "    \n",
    "    with open(dag_dir+\"/\"+dag_file_name, 'a') as f:\n",
    "        f.write(spark_operator)"
   ]
  },
  {
   "cell_type": "code",
   "execution_count": 74,
   "id": "d786d564-d369-464c-af11-326aee246691",
   "metadata": {},
   "outputs": [],
   "source": [
    "def parse_spark_oozie_action(a):\n",
    "     \n",
    "    if \"spark\" in a.keys():\n",
    "\n",
    "        task_id = a[\"spark\"][\"name\"]\n",
    "        step_name = task_id+\"_Step\" \n",
    "        step_name = step_name.replace('-', '')\n",
    "        spark_cde_job_name = task_id\n",
    "        \n",
    "        print(\"Extracted Job Name: {}\".format(task_id))\n",
    "        \n",
    "        return task_id, step_name, spark_cde_job_name\n",
    "\n",
    "    else:\n",
    "        print(\"Error. This is not a Spark Oozie Action\")"
   ]
  },
  {
   "cell_type": "code",
   "execution_count": 75,
   "id": "67b59f06-18b7-44a4-b778-bd45cea6bbfd",
   "metadata": {},
   "outputs": [],
   "source": [
    "def append_cdw_operator(dag_dir, dag_file_name, task_id, step_name, cdw_query):    \n",
    "    \n",
    "    cdw_operator = '''cdw_query = \"\"\"{}\"\"\"\n",
    "\n",
    "{} = CDWOperator(\n",
    "    task_id=\"{}\",\n",
    "    dag=dag,\n",
    "    cli_conn_id=\"hive_conn\",\n",
    "    hql=cdw_query,\n",
    "    schema='default',\n",
    "    ### CDW related args ###\n",
    "    use_proxy_user=False,\n",
    "    query_isolation=True\n",
    ")\\n\\n'''.format(cdw_query, step_name, task_id)\n",
    "    \n",
    "    with open(dag_dir+\"/\"+dag_file_name, 'a') as f:\n",
    "        f.write(cdw_operator)"
   ]
  },
  {
   "cell_type": "code",
   "execution_count": 76,
   "id": "a3aa6e78-aa1b-4c72-a1b4-7a00d3773b0a",
   "metadata": {},
   "outputs": [],
   "source": [
    "def parse_hive_oozie_action(a):\n",
    "    \n",
    "    #Checking if this is a Hive Oozie Action\n",
    "    if \"hive\" in a.keys():\n",
    "    \n",
    "        #CDE Operator Task ID\n",
    "        task_id = a['@name']\n",
    "\n",
    "        #CDW Operator Name\n",
    "        step_name = task_id+\"_Step\"\n",
    "        step_name = step_name.replace('-', '')\n",
    "\n",
    "        #Parsing SQL from Hive file\n",
    "        with open(a['hive']['script'], 'r') as f:\n",
    "            hive_sql = f.read()\n",
    "            cdw_query = hive_sql.replace(\"\\n\", \"\")\n",
    "        \n",
    "    return task_id, step_name, cdw_query"
   ]
  },
  {
   "cell_type": "code",
   "execution_count": 77,
   "id": "4cac98ce-fbe0-414f-84ee-b35eb66a9478",
   "metadata": {},
   "outputs": [],
   "source": [
    "def append_email_operator(dag_dir, dag_file_name, task_id, step_name, email_to, email_cc, email_subject, email_body):\n",
    "    \n",
    "    email_operator ='''\n",
    "{} = EmailOperator( \n",
    "task_id=\"{}\", \n",
    "to=\"{}\", \n",
    "cc=\"{}\",\n",
    "subject=\"{}\", \n",
    "html_content=\"{}\", \n",
    "dag=dag)\n",
    "    '''.format(step_name, task_id, email_to, email_cc, email_subject, email_body)\n",
    "    \n",
    "    with open(dag_dir+\"/\"+dag_file_name, 'a') as f:\n",
    "        f.write(email_operator)"
   ]
  },
  {
   "cell_type": "code",
   "execution_count": 78,
   "id": "54645836-8de3-4846-bf85-1d07a07d2454",
   "metadata": {},
   "outputs": [],
   "source": [
    "def parse_email_oozie_action(a):\n",
    "    \n",
    "    if \"email\" in a.keys():\n",
    "    \n",
    "        #Task ID\n",
    "        task_id = a['@name']\n",
    "\n",
    "        #Operator Name\n",
    "        step_name = task_id+\"_Step\"\n",
    "        step_name = step_name.replace('-', '')\n",
    "        \n",
    "        #Extracting Email Fields\n",
    "        \n",
    "        action = a['email']\n",
    "        \n",
    "        if action.__contains__('to'):\n",
    "            email_to = a['email']['to'] \n",
    "        if action.__contains__('cc'):\n",
    "            email_cc = a['email']['cc']\n",
    "        if action.__contains__('subject'):\n",
    "            email_subject = a['email']['subject']\n",
    "        if action.__contains__('body'):\n",
    "            email_body = a['email']['body']\n",
    "        \n",
    "        return task_id, step_name, email_to, email_cc, email_subject, email_body    "
   ]
  },
  {
   "cell_type": "code",
   "execution_count": 101,
   "id": "1cd823b1-44d9-400e-b51c-7a61cbae0996",
   "metadata": {},
   "outputs": [],
   "source": [
    "def append_bash_operator(dag_dir, dag_file_name, task_id, step_name):\n",
    "    \n",
    "    bash_operator = '''{} = BashOperator(\n",
    "    task_id=\"{}\",\n",
    "    bash_command=\"echo \\'here is the message'\")'''.format(task_id, step_name  )\n",
    "    \n",
    "    with open(dag_dir+\"/\"+dag_file_name, 'a') as f:\n",
    "        f.write(bash_operator)"
   ]
  },
  {
   "cell_type": "code",
   "execution_count": 102,
   "id": "fd8237ae-a98d-4256-933c-ed5768fa0ea8",
   "metadata": {},
   "outputs": [],
   "source": [
    "def parse_shell_oozie_action(a):\n",
    "    \n",
    "    if \"shell\" in a.keys():\n",
    "        \n",
    "        #CDE Operator Task ID\n",
    "        task_id = a['@name']\n",
    "\n",
    "        #CDW Operator Name\n",
    "        step_name = task_id+\"_Step\"\n",
    "        step_name = step_name.replace('-', '')\n",
    "        \n",
    "        return task_id, step_name   "
   ]
  },
  {
   "cell_type": "code",
   "execution_count": 1,
   "id": "74b9853a-e2f7-44a6-a254-e0d8a33545e3",
   "metadata": {},
   "outputs": [],
   "source": [
    "def append_python_operator(dag_dir, dag_file_name):\n",
    "    \n",
    "    print(\"Action not Found. Replacing Action with Airflow Python Operator Stub\")\n",
    "\n",
    "    task_id = \"PythonOperator\"\n",
    "    step_name = \"StepStub\"\n",
    "\n",
    "    python_operator = \"\"\"\\ndef my_func():\\n\\tpass\\n \n",
    "    {} = PythonOperator(task_id='{}', python_callable=my_func)\"\"\".format(step_name, task_id)\n",
    "\n",
    "    with open(dag_dir+\"/\"+dag_file_name, 'a') as f:\n",
    "        f.write(python_operator)"
   ]
  },
  {
   "cell_type": "code",
   "execution_count": null,
   "id": "cc9bfaa5-91d4-47cd-9ced-ba90ee3cc641",
   "metadata": {},
   "outputs": [],
   "source": []
  },
  {
   "cell_type": "code",
   "execution_count": null,
   "id": "fcdd9ad0-50eb-44a2-8a2e-e6772c4ff420",
   "metadata": {},
   "outputs": [],
   "source": []
  },
  {
   "cell_type": "code",
   "execution_count": null,
   "id": "e629d704-45b3-4968-bfe3-abdb0ba5a676",
   "metadata": {},
   "outputs": [],
   "source": []
  },
  {
   "cell_type": "code",
   "execution_count": 103,
   "id": "3bceb6d2-045a-431f-86f8-39d90367c158",
   "metadata": {},
   "outputs": [
    {
     "name": "stdout",
     "output_type": "stream",
     "text": [
      "Oozie workflow file shell_action_workflow.xml found\n"
     ]
    }
   ],
   "source": [
    "oozie_action = ooziexml_to_dict(\"oozie_workflows/shell_oozie_action\")"
   ]
  },
  {
   "cell_type": "code",
   "execution_count": 104,
   "id": "e5d6fc16-724a-41a0-bdf8-c10ebf3a21b7",
   "metadata": {},
   "outputs": [],
   "source": [
    "action = oozie_action['workflow-app']['action']"
   ]
  },
  {
   "cell_type": "code",
   "execution_count": 105,
   "id": "e4b19564-8ecc-456c-a1bb-921ce75f76cd",
   "metadata": {},
   "outputs": [],
   "source": [
    "task_id, step_name = parse_shell_oozie_action(action)"
   ]
  },
  {
   "cell_type": "code",
   "execution_count": 106,
   "id": "117d1df2-b6f3-4690-8d1d-6b896c15af73",
   "metadata": {},
   "outputs": [],
   "source": [
    "append_bash_operator(task_id, step_name)"
   ]
  },
  {
   "cell_type": "code",
   "execution_count": null,
   "id": "57285d62-eabe-4aa5-b7bf-b1bb0fc7055d",
   "metadata": {},
   "outputs": [],
   "source": []
  },
  {
   "cell_type": "code",
   "execution_count": null,
   "id": "03dacb27-edd1-44a8-8dd4-d66518c95ed8",
   "metadata": {},
   "outputs": [],
   "source": []
  },
  {
   "cell_type": "code",
   "execution_count": null,
   "id": "4673f19f-0e51-4008-99aa-08841091d335",
   "metadata": {},
   "outputs": [],
   "source": []
  },
  {
   "cell_type": "code",
   "execution_count": 79,
   "id": "5b579e04-13e3-47f9-a465-066b2c110891",
   "metadata": {},
   "outputs": [
    {
     "name": "stdout",
     "output_type": "stream",
     "text": [
      "Oozie workflow file email_action_workflow.xml found\n"
     ]
    }
   ],
   "source": [
    "oozie_action = ooziexml_to_dict(\"oozie_workflows/email_oozie_action\")"
   ]
  },
  {
   "cell_type": "code",
   "execution_count": 80,
   "id": "2604365b-7dc4-43fc-bf58-34900be0a81c",
   "metadata": {},
   "outputs": [],
   "source": [
    "action = oozie_action['workflow-app']['action']"
   ]
  },
  {
   "cell_type": "code",
   "execution_count": 82,
   "id": "f63c622f-1d59-4323-a5ba-1421d2bbe8b7",
   "metadata": {},
   "outputs": [],
   "source": [
    "append_email_operator(task_id, step_name, email_to, email_cc, email_subject, email_body)"
   ]
  },
  {
   "cell_type": "code",
   "execution_count": null,
   "id": "37c75db2-025e-4f4e-9862-6f9dd1562955",
   "metadata": {},
   "outputs": [],
   "source": []
  },
  {
   "cell_type": "code",
   "execution_count": null,
   "id": "d78ba712-d234-451f-aa80-60b8ed3480b2",
   "metadata": {},
   "outputs": [],
   "source": []
  },
  {
   "cell_type": "code",
   "execution_count": 108,
   "id": "d0b6a7a2-a287-4917-be32-2737a3c8efa5",
   "metadata": {},
   "outputs": [
    {
     "name": "stdout",
     "output_type": "stream",
     "text": [
      "Action not Found. Replacing Action with Airflow Python Operator Stub\n"
     ]
    }
   ],
   "source": [
    "print(\"Action not Found. Replacing Action with Airflow Python Operator Stub\")\n",
    "\n",
    "task_id = \"PythonOperator\"\n",
    "step_name = \"Step Stub\"\n",
    "\n",
    "python_operator = \"\"\"def my_func():\\n\\t pass\\n \n",
    "{} = PythonOperator(task_id='{}', python_callable=my_func)\"\"\".format(step_name, task_id)\n",
    "\n",
    "with open('airflow_dags/oozie2airflow.py', 'a') as f:\n",
    "    f.write(python_operator)"
   ]
  },
  {
   "cell_type": "code",
   "execution_count": null,
   "id": "32bcdee5-b2d9-4e93-9d65-8f180e3972c5",
   "metadata": {},
   "outputs": [],
   "source": []
  },
  {
   "cell_type": "code",
   "execution_count": null,
   "id": "d17a4b88-612d-4668-a161-4b36f1721050",
   "metadata": {},
   "outputs": [],
   "source": []
  },
  {
   "cell_type": "code",
   "execution_count": null,
   "id": "3fb321f7-6015-4e5c-b92f-f4d06b50ff59",
   "metadata": {},
   "outputs": [],
   "source": []
  },
  {
   "cell_type": "code",
   "execution_count": 112,
   "id": "daa7201a-372d-4f9a-a917-99e4365f8454",
   "metadata": {},
   "outputs": [],
   "source": [
    "initialize_dag()"
   ]
  },
  {
   "cell_type": "code",
   "execution_count": 113,
   "id": "e21750fe-4d9c-474c-9d3e-c7bf18465102",
   "metadata": {},
   "outputs": [],
   "source": [
    "dag_imports()"
   ]
  },
  {
   "cell_type": "code",
   "execution_count": 114,
   "id": "224dbc7c-58d0-451d-a3d7-6891c8a021d7",
   "metadata": {},
   "outputs": [],
   "source": [
    "dag_declaration()"
   ]
  },
  {
   "cell_type": "code",
   "execution_count": 115,
   "id": "91073b53-a740-430e-8a21-5024ed281f24",
   "metadata": {},
   "outputs": [
    {
     "ename": "NameError",
     "evalue": "name 's' is not defined",
     "output_type": "error",
     "traceback": [
      "\u001b[0;31m---------------------------------------------------------------------------\u001b[0m",
      "\u001b[0;31mNameError\u001b[0m                                 Traceback (most recent call last)",
      "\u001b[0;32m/tmp/ipykernel_199/3345171377.py\u001b[0m in \u001b[0;36m<module>\u001b[0;34m\u001b[0m\n\u001b[0;32m----> 1\u001b[0;31m \u001b[0mtask_id\u001b[0m\u001b[0;34m,\u001b[0m \u001b[0mstep_name\u001b[0m\u001b[0;34m,\u001b[0m \u001b[0mspark_cde_job_name\u001b[0m \u001b[0;34m=\u001b[0m \u001b[0mparse_spark_oozie_action\u001b[0m\u001b[0;34m(\u001b[0m\u001b[0ms\u001b[0m\u001b[0;34m)\u001b[0m\u001b[0;34m\u001b[0m\u001b[0;34m\u001b[0m\u001b[0m\n\u001b[0m",
      "\u001b[0;31mNameError\u001b[0m: name 's' is not defined"
     ]
    }
   ],
   "source": [
    "task_id, step_name, spark_cde_job_name = parse_spark_oozie_action(s)"
   ]
  },
  {
   "cell_type": "code",
   "execution_count": 312,
   "id": "77f7d268-c607-4fe8-8c52-0409864c7b88",
   "metadata": {},
   "outputs": [
    {
     "name": "stdout",
     "output_type": "stream",
     "text": [
      "Error. Only one Oozie workflow file per workflow directory expected.\n",
      "\n",
      "Please remove the Oozie workflow file that is not associated with this project.\n",
      "\n"
     ]
    }
   ],
   "source": [
    "s = ooziexml_to_dict(\"oozie_workflows\")"
   ]
  },
  {
   "cell_type": "code",
   "execution_count": 325,
   "id": "1104e6d3-936a-4fe5-8737-27740a1c6c47",
   "metadata": {},
   "outputs": [
    {
     "ename": "NameError",
     "evalue": "name 'task_id' is not defined",
     "output_type": "error",
     "traceback": [
      "\u001b[0;31m---------------------------------------------------------------------------\u001b[0m",
      "\u001b[0;31mNameError\u001b[0m                                 Traceback (most recent call last)",
      "\u001b[0;32m/tmp/ipykernel_203/4257310605.py\u001b[0m in \u001b[0;36m<module>\u001b[0;34m\u001b[0m\n\u001b[0;32m----> 1\u001b[0;31m \u001b[0mappend_cde_spark_operator\u001b[0m\u001b[0;34m(\u001b[0m\u001b[0mtask_id\u001b[0m\u001b[0;34m,\u001b[0m \u001b[0mstep_name\u001b[0m\u001b[0;34m,\u001b[0m \u001b[0mspark_cde_job_name\u001b[0m\u001b[0;34m)\u001b[0m\u001b[0;34m\u001b[0m\u001b[0;34m\u001b[0m\u001b[0m\n\u001b[0m",
      "\u001b[0;31mNameError\u001b[0m: name 'task_id' is not defined"
     ]
    }
   ],
   "source": [
    "append_cde_spark_operator(task_id, step_name, spark_cde_job_name)"
   ]
  },
  {
   "cell_type": "code",
   "execution_count": 355,
   "id": "69d4c6ea-4507-4d19-b653-a5d76bc95768",
   "metadata": {},
   "outputs": [
    {
     "ename": "NameError",
     "evalue": "name 'a' is not defined",
     "output_type": "error",
     "traceback": [
      "\u001b[0;31m---------------------------------------------------------------------------\u001b[0m",
      "\u001b[0;31mNameError\u001b[0m                                 Traceback (most recent call last)",
      "\u001b[0;32m/tmp/ipykernel_203/1414751844.py\u001b[0m in \u001b[0;36m<module>\u001b[0;34m\u001b[0m\n\u001b[0;32m----> 1\u001b[0;31m \u001b[0mtask_id\u001b[0m\u001b[0;34m,\u001b[0m \u001b[0mstep_name\u001b[0m\u001b[0;34m,\u001b[0m \u001b[0mcdw_query\u001b[0m \u001b[0;34m=\u001b[0m \u001b[0mparse_hive_oozie_action\u001b[0m\u001b[0;34m(\u001b[0m\u001b[0ma\u001b[0m\u001b[0;34m)\u001b[0m\u001b[0;34m\u001b[0m\u001b[0;34m\u001b[0m\u001b[0m\n\u001b[0m",
      "\u001b[0;31mNameError\u001b[0m: name 'a' is not defined"
     ]
    }
   ],
   "source": [
    "task_id, step_name, cdw_query = parse_hive_oozie_action(a)"
   ]
  },
  {
   "cell_type": "code",
   "execution_count": 121,
   "id": "d7f93dd7-a959-4cce-b9db-8dea695ab5bc",
   "metadata": {},
   "outputs": [],
   "source": [
    "append_cdw_operator(task_id, step_name, cdw_query)"
   ]
  },
  {
   "cell_type": "code",
   "execution_count": null,
   "id": "2e11e018-bd0c-401d-b244-6eb25ca6fad9",
   "metadata": {},
   "outputs": [],
   "source": [
    "task_id, step_name, email_to, email_cc, email_subject, email_body = parse_email_oozie_action(action)"
   ]
  },
  {
   "cell_type": "code",
   "execution_count": null,
   "id": "dced5207-6f97-421f-9b46-732ce365dd6e",
   "metadata": {},
   "outputs": [],
   "source": [
    "append_email_operator(task_id, step_name, email_to, email_cc, email_subject, email_body)"
   ]
  },
  {
   "cell_type": "code",
   "execution_count": null,
   "id": "3bcfde1c-5278-4c85-997a-0a75df672971",
   "metadata": {},
   "outputs": [],
   "source": []
  }
 ],
 "metadata": {
  "kernelspec": {
   "display_name": "Python 3 (ipykernel)",
   "language": "python",
   "name": "python3"
  },
  "language_info": {
   "codemirror_mode": {
    "name": "ipython",
    "version": 3
   },
   "file_extension": ".py",
   "mimetype": "text/x-python",
   "name": "python",
   "nbconvert_exporter": "python",
   "pygments_lexer": "ipython3",
   "version": "3.7.13"
  }
 },
 "nbformat": 4,
 "nbformat_minor": 5
}
