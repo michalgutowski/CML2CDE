{
 "cells": [
  {
   "cell_type": "markdown",
   "id": "cc821eca-d455-4b3e-9724-1e1165601375",
   "metadata": {},
   "source": [
    "## Migrating Oozie Workflows to Airflow CDE DAGs"
   ]
  },
  {
   "cell_type": "code",
   "execution_count": 339,
   "id": "f2694c89-d7b2-48d7-97bf-c6880fe647ff",
   "metadata": {},
   "outputs": [],
   "source": [
    "import numpy as np\n",
    "import pandas as pd\n",
    "import os\n",
    "from os.path import exists\n",
    "import json\n",
    "import sys\n",
    "import re\n",
    "import requests\n",
    "from requests_toolbelt import MultipartEncoder\n",
    "import xmltodict as xd\n",
    "import pyparsing"
   ]
  },
  {
   "cell_type": "markdown",
   "id": "96bf7eef-027e-41dd-b52c-5a289b4ce59f",
   "metadata": {},
   "source": [
    "#### Converting Oozie Actions to Airflow Bash Operators"
   ]
  },
  {
   "cell_type": "code",
   "execution_count": 340,
   "id": "e1fc1485-50af-4644-99e2-043083eeffe2",
   "metadata": {},
   "outputs": [],
   "source": [
    "def ooziexml_to_dict(oozie_workflow_path):\n",
    "\n",
    "    #\"oozie_workflows/oozie_hive_workflow_with_properties\"\n",
    "    \n",
    "    #Ensuring there is only one workflow xml file in the dir\n",
    "    if len([file for file in os.listdir(oozie_workflow_path) if \".xml\" in file]) == 1:\n",
    "    \n",
    "        #Parsing properties file\n",
    "        for file in os.listdir(oozie_workflow_path):\n",
    "            if \".xml\" in file:\n",
    "                print(\"Oozie workflow file {} found\".format(file))\n",
    "                with open(oozie_workflow_path+\"/\"+file,'rb') as f:\n",
    "                    d = xd.parse(f)\n",
    "                    return d\n",
    "                \n",
    "    elif len([file for file in os.listdir(oozie_workflow_path) if \".xml\" in file]) == 0:\n",
    "        \n",
    "        print(\"No Oozie workflow file found.\\n\")\n",
    "        print(\"If Oozie workflow file is expected, please ensure it is in the workflow directory.\\n\")\n",
    "        print(\"If Oozie workflow file is not expected, please ignore this message.\\n\")\n",
    "        \n",
    "    else:\n",
    "              \n",
    "        print(\"Error. Only one Oozie workflow file per workflow directory expected.\\n\")\n",
    "        print(\"Please remove the Oozie workflow file that is not associated with this project.\\n\")"
   ]
  },
  {
   "cell_type": "code",
   "execution_count": 341,
   "id": "469c515e-b1bf-42cd-8254-815cd335b80d",
   "metadata": {},
   "outputs": [],
   "source": [
    "def parse_workflow_properties(oozie_workflow_path):\n",
    "    \n",
    "    #\"oozie_workflows/oozie_hive_workflow_with_properties\"\n",
    "    \n",
    "    #Ensuring there is only one properties file in the dir\n",
    "    if len([file for file in os.listdir(oozie_workflow_path) if \".properties\" in file]) == 1:\n",
    "    \n",
    "        #Parsing properties file\n",
    "        for file in os.listdir(oozie_workflow_path):\n",
    "            if \".properties\" in file:\n",
    "                print(\"Properties file {} found\".format(file))\n",
    "                with open(oozie_workflow_path+\"/\"+file) as f:\n",
    "                    properties_file = f.read()\n",
    "                    properties_dict = dict([tuple(i.split(\"=\")) for i in properties_file.split(\"\\n\") if len(tuple(i.split(\"=\"))) > 1])\n",
    "                    properties_dict = {x.replace(' ', ''): v.replace(' ','') for x, v in properties_dict.items()}\n",
    "                    \n",
    "                    return properties_dict\n",
    "                    \n",
    "    elif len([file for file in os.listdir(oozie_workflow_path) if \".properties\" in file]) == 0:\n",
    "        \n",
    "        print(\"No properties file found.\\n\")\n",
    "        print(\"If properties file is expected, please ensure it is in the workflow directory.\\n\")\n",
    "        print(\"If properties file is not expected, please ignore this message.\\n\")\n",
    "        \n",
    "    else:\n",
    "              \n",
    "        print(\"Error. Only one properties file per workflow directory expected.\\n\")\n",
    "        print(\"Please remove the properties file that is not associated with this workflow.\\n\")"
   ]
  },
  {
   "cell_type": "code",
   "execution_count": 343,
   "id": "a5c8d687-0846-41cc-b7c3-99191a0e05dd",
   "metadata": {},
   "outputs": [
    {
     "name": "stdout",
     "output_type": "stream",
     "text": [
      "Oozie workflow file hive_properties_workflow.xml found\n"
     ]
    },
    {
     "data": {
      "text/plain": [
       "{'workflow-app': {'@xmlns': 'uri:oozie:workflow:0.4',\n",
       "  '@name': 'simple-Workflow',\n",
       "  'start': {'@to': 'Create_External_Table'},\n",
       "  'action': [{'@name': 'Create_External_Table',\n",
       "    'hive': {'@xmlns': 'uri:oozie:hive-action:0.4',\n",
       "     'job-tracker': '${jobTracker}',\n",
       "     'name-node': '${nameNode}',\n",
       "     'script': '${script_name_external}'},\n",
       "    'ok': {'@to': 'Create_orc_Table'},\n",
       "    'error': {'@to': 'kill_job'}},\n",
       "   {'@name': 'Create_orc_Table',\n",
       "    'hive': {'@xmlns': 'uri:oozie:hive-action:0.4',\n",
       "     'job-tracker': '${jobTracker}',\n",
       "     'name-node': '${nameNode}',\n",
       "     'script': '${script_name_orc}'},\n",
       "    'ok': {'@to': 'Insert_into_Table'},\n",
       "    'error': {'@to': 'kill_job'}},\n",
       "   {'@name': 'Insert_into_Table',\n",
       "    'hive': {'@xmlns': 'uri:oozie:hive-action:0.4',\n",
       "     'job-tracker': '${jobTracker}',\n",
       "     'name-node': '${nameNode}',\n",
       "     'script': '${script_name_copy}',\n",
       "     'param': '${database}'},\n",
       "    'ok': {'@to': 'end'},\n",
       "    'error': {'@to': 'kill_job'}}],\n",
       "  'kill': {'@name': 'kill_job', 'message': 'Job failed'},\n",
       "  'end': {'@name': 'end'}}}"
      ]
     },
     "execution_count": 343,
     "metadata": {},
     "output_type": "execute_result"
    }
   ],
   "source": [
    "d = ooziexml_to_dict(\"oozie_workflows/oozie_hive_workflow_with_properties\")\n",
    "d"
   ]
  },
  {
   "cell_type": "code",
   "execution_count": 344,
   "id": "e691bfcf-6616-42ff-9ea5-db65bc87aa7a",
   "metadata": {},
   "outputs": [
    {
     "name": "stdout",
     "output_type": "stream",
     "text": [
      "Properties file job1.properties found\n"
     ]
    },
    {
     "data": {
      "text/plain": [
       "{'nameNode': 'hdfs://rootname',\n",
       " 'jobTracker': 'xyz.com:8088',\n",
       " 'script_name_external': 'oozie_workflows/oozie_hive_workflow_with_properties/external.hive',\n",
       " 'script_name_orc': 'oozie_workflows/oozie_hive_workflow_with_properties/orc.hive',\n",
       " 'script_name_copy': 'oozie_workflows/oozie_hive_workflow_with_properties/Copydata.hive',\n",
       " 'database': 'database_name'}"
      ]
     },
     "execution_count": 344,
     "metadata": {},
     "output_type": "execute_result"
    }
   ],
   "source": [
    "props = parse_workflow_properties(\"oozie_workflows/oozie_hive_workflow_with_properties\")\n",
    "props"
   ]
  },
  {
   "cell_type": "code",
   "execution_count": 345,
   "id": "6c25b863-e059-4f7f-80f6-672727a5ebd9",
   "metadata": {},
   "outputs": [],
   "source": [
    "def workflow_properties_lookup(d, props):\n",
    "    \n",
    "    #Property value lookup \n",
    "    string = json.dumps(d)\n",
    "\n",
    "    for k, v in props.items():\n",
    "        string = string.replace(k, v)\n",
    "\n",
    "    #Removing unwanted characters\n",
    "    subbed = re.sub(r'\"\\${(.*?)}\"', r'\"\\1\"', string)\n",
    "    parsed_xml = json.loads(subbed)\n",
    "    return parsed_xml"
   ]
  },
  {
   "cell_type": "code",
   "execution_count": 346,
   "id": "f97b123e-04c1-43cb-b31f-64833f0cf895",
   "metadata": {},
   "outputs": [
    {
     "data": {
      "text/plain": [
       "{'workflow-app': {'@xmlns': 'uri:oozie:workflow:0.4',\n",
       "  '@name': 'simple-Workflow',\n",
       "  'start': {'@to': 'Create_External_Table'},\n",
       "  'action': [{'@name': 'Create_External_Table',\n",
       "    'hive': {'@xmlns': 'uri:oozie:hive-action:0.4',\n",
       "     'job-tracker': 'xyz.com:8088',\n",
       "     'name-node': 'hdfs://rootname',\n",
       "     'script': 'oozie_workflows/oozie_hive_workflow_with_properties/external.hive'},\n",
       "    'ok': {'@to': 'Create_orc_Table'},\n",
       "    'error': {'@to': 'kill_job'}},\n",
       "   {'@name': 'Create_orc_Table',\n",
       "    'hive': {'@xmlns': 'uri:oozie:hive-action:0.4',\n",
       "     'job-tracker': 'xyz.com:8088',\n",
       "     'name-node': 'hdfs://rootname',\n",
       "     'script': 'oozie_workflows/oozie_hive_workflow_with_properties/orc.hive'},\n",
       "    'ok': {'@to': 'Insert_into_Table'},\n",
       "    'error': {'@to': 'kill_job'}},\n",
       "   {'@name': 'Insert_into_Table',\n",
       "    'hive': {'@xmlns': 'uri:oozie:hive-action:0.4',\n",
       "     'job-tracker': 'xyz.com:8088',\n",
       "     'name-node': 'hdfs://rootname',\n",
       "     'script': 'oozie_workflows/oozie_hive_workflow_with_properties/Copydata.hive',\n",
       "     'param': 'database_name'},\n",
       "    'ok': {'@to': 'end'},\n",
       "    'error': {'@to': 'kill_job'}}],\n",
       "  'kill': {'@name': 'kill_job', 'message': 'Job failed'},\n",
       "  'end': {'@name': 'end'}}}"
      ]
     },
     "execution_count": 346,
     "metadata": {},
     "output_type": "execute_result"
    }
   ],
   "source": [
    "d = workflow_properties_lookup(d, props)\n",
    "d"
   ]
  },
  {
   "cell_type": "code",
   "execution_count": null,
   "id": "5fd77957-12ff-4063-a6d8-e15e82060201",
   "metadata": {},
   "outputs": [],
   "source": []
  },
  {
   "cell_type": "code",
   "execution_count": 311,
   "id": "f59b28e3-948d-44b3-ba02-d7954b39536d",
   "metadata": {},
   "outputs": [
    {
     "name": "stdout",
     "output_type": "stream",
     "text": [
      "database_name\n"
     ]
    }
   ],
   "source": [
    "for action in d['workflow-app']['action']:\n",
    "    #print(action)\n",
    "    if \"param\" in action[\"hive\"].keys():\n",
    "        print(action[\"hive\"][\"param\"])\n",
    "        "
   ]
  },
  {
   "cell_type": "code",
   "execution_count": 362,
   "id": "cf738e03-d668-4111-a8cf-24ca1c3005ee",
   "metadata": {},
   "outputs": [
    {
     "name": "stdout",
     "output_type": "stream",
     "text": [
      "('Create_External_Table', 'Create_External_Table_Step', \"Create external table external_table(name string,age int,address string,zip int)row format delimitedfields terminated by ','stored as textfilelocation '/test/abc';\")\n",
      "('Create_orc_Table', 'Create_orc_Table_Step', 'Create Table orc_table(name string, -- Concate value of first name and last name with space as seperatoryearofbirth int,age int, -- Current year minus year of birthaddress string,zip int)STORED AS ORC;')\n",
      "('Insert_into_Table', 'Insert_into_Table_Step', \"use ${database_name}; -- input from Oozieinsert into table orc_tableselectconcat(first_name,' ',last_name) as name,yearofbirth,year(from_unixtime) --yearofbirth as age,address,zipfrom external_table;\")\n"
     ]
    }
   ],
   "source": [
    "tasks = []\n",
    "steps = []\n",
    "queries = []\n",
    "\n",
    "for action in d['workflow-app']['action']:\n",
    "    print(parse_hive_oozie_action(action))\n",
    "    task_id, step_name, cdw_query = parse_hive_oozie_action(action)\n",
    "    \n",
    "    \n",
    "    \n",
    "    if cdw_query\n",
    "    \n",
    "    tasks.append(task_id) \n",
    "    steps.append(step_name) \n",
    "    queries.append(cdw_query)"
   ]
  },
  {
   "cell_type": "code",
   "execution_count": 363,
   "id": "958bc08d-8ddb-4081-9edc-2a9cf68ebcb7",
   "metadata": {},
   "outputs": [
    {
     "data": {
      "text/plain": [
       "['Create_External_Table', 'Create_orc_Table', 'Insert_into_Table']"
      ]
     },
     "execution_count": 363,
     "metadata": {},
     "output_type": "execute_result"
    }
   ],
   "source": [
    "tasks"
   ]
  },
  {
   "cell_type": "code",
   "execution_count": null,
   "id": "05e2878e-fe27-499a-ab4a-2fd433d0f107",
   "metadata": {},
   "outputs": [],
   "source": []
  },
  {
   "cell_type": "code",
   "execution_count": 312,
   "id": "77f7d268-c607-4fe8-8c52-0409864c7b88",
   "metadata": {},
   "outputs": [
    {
     "name": "stdout",
     "output_type": "stream",
     "text": [
      "Error. Only one Oozie workflow file per workflow directory expected.\n",
      "\n",
      "Please remove the Oozie workflow file that is not associated with this project.\n",
      "\n"
     ]
    }
   ],
   "source": [
    "s = ooziexml_to_dict(\"oozie_workflows\")"
   ]
  },
  {
   "cell_type": "code",
   "execution_count": null,
   "id": "2102f513-77a3-4cc3-907b-e0428408994f",
   "metadata": {},
   "outputs": [],
   "source": []
  },
  {
   "cell_type": "code",
   "execution_count": null,
   "id": "5abe79a6-6e83-4910-b77b-d2c673e407ef",
   "metadata": {},
   "outputs": [],
   "source": []
  },
  {
   "cell_type": "code",
   "execution_count": 313,
   "id": "351d278a-12a8-454c-87bb-80cc80ab0e87",
   "metadata": {},
   "outputs": [],
   "source": [
    "def initialize_dag():\n",
    "    with open('airflow_dags/oozie2airflow.py', 'w') as f:\n",
    "        f.write('# The new Airflow DAG')"
   ]
  },
  {
   "cell_type": "code",
   "execution_count": 314,
   "id": "de92bf68-1650-4ad1-83bd-1f752ffddebb",
   "metadata": {},
   "outputs": [],
   "source": [
    "def dag_imports():\n",
    "    \n",
    "    imports = \"\"\"\\nfrom dateutil import parser\n",
    "    \\nfrom datetime import datetime, timedelta\n",
    "    \\nfrom datetime import timezone\n",
    "    \\nfrom airflow import DAG\n",
    "    \\nfrom cloudera.cdp.airflow.operators.cde_operator import CDEJobRunOperator\\n\\n\"\"\"\n",
    "    \n",
    "    with open('airflow_dags/oozie2airflow.py', 'a') as f:\n",
    "        f.write(imports)"
   ]
  },
  {
   "cell_type": "code",
   "execution_count": 315,
   "id": "e69beaf4-4188-46f7-8809-0b2be417f07e",
   "metadata": {},
   "outputs": [],
   "source": [
    "def dag_declaration():\n",
    "    \n",
    "    declarations = \"\"\"default_args = {\n",
    "    'owner': 'your_username_here',\n",
    "    'retry_delay': timedelta(seconds=5),\n",
    "    'depends_on_past': False,\n",
    "    'start_date': parser.isoparse('2021-05-25T07:33:37.393Z').replace(tzinfo=timezone.utc)\n",
    "    }\n",
    "\n",
    "dag = DAG(\n",
    "    'airflow-pipeline-demo',\n",
    "    default_args=default_args,\n",
    "    schedule_interval='@daily',\n",
    "    catchup=False,\n",
    "    is_paused_upon_creation=False\n",
    "    )\\n\\n\"\"\"\n",
    "    \n",
    "    with open('airflow_dags/oozie2airflow.py', 'a') as f:\n",
    "        f.write(declarations)"
   ]
  },
  {
   "cell_type": "code",
   "execution_count": 316,
   "id": "142b774f-c655-47f6-b6a0-17a744b6d766",
   "metadata": {},
   "outputs": [],
   "source": [
    "def append_cde_spark_operator(task_id, step_name, spark_cde_job_name):\n",
    "    \n",
    "    spark_operator = \"\"\"{} = CDEJobRunOperator(\n",
    "    task_id='{}',\n",
    "    dag=dag,\n",
    "    job_name='{}'\n",
    "    )\\n\\n\"\"\".format(step_name, task_id, spark_cde_job_name)\n",
    "    \n",
    "    with open('airflow_dags/oozie2airflow.py', 'a') as f:\n",
    "        f.write(spark_operator)"
   ]
  },
  {
   "cell_type": "code",
   "execution_count": 317,
   "id": "d786d564-d369-464c-af11-326aee246691",
   "metadata": {},
   "outputs": [],
   "source": [
    "def parse_spark_oozie_action(d):\n",
    "     \n",
    "    if \"spark\" in d[\"workflow-app\"][\"action\"].keys():\n",
    "\n",
    "        task_id = d[\"workflow-app\"][\"action\"][\"spark\"][\"name\"]\n",
    "        step_name = task_id+\"_Step\" \n",
    "        spark_cde_job_name = task_id\n",
    "\n",
    "    else:\n",
    "        print(\"Error. This is not a Spark Oozie Action\")\n",
    "        \n",
    "    print(\"Extracted Job Name: {}\".format(task_id))\n",
    "    return task_id, step_name, spark_cde_job_name"
   ]
  },
  {
   "cell_type": "code",
   "execution_count": 319,
   "id": "67b59f06-18b7-44a4-b778-bd45cea6bbfd",
   "metadata": {},
   "outputs": [],
   "source": [
    "def append_cdw_operator(task_id, step_name, cdw_query):    \n",
    "    \n",
    "    cdw_operator = '''cdw_query = \"\"\"{}\"\"\"\n",
    "\n",
    "{} = CDWOperator(\n",
    "    task_id=\"{}\",\n",
    "    dag=dag,\n",
    "    cli_conn_id=\"hive_conn\",\n",
    "    hql=cdw_query,\n",
    "    schema='default',\n",
    "    ### CDW related args ###\n",
    "    use_proxy_user=False,\n",
    "    query_isolation=True\n",
    ")\\n\\n'''.format(cdw_query, step_name, task_id)\n",
    "    \n",
    "    with open('airflow_dags/oozie2airflow.py', 'a') as f:\n",
    "        f.write(cdw_operator)"
   ]
  },
  {
   "cell_type": "code",
   "execution_count": 353,
   "id": "a3aa6e78-aa1b-4c72-a1b4-7a00d3773b0a",
   "metadata": {},
   "outputs": [],
   "source": [
    "def parse_hive_oozie_action(a):\n",
    "    \n",
    "    #CDE Operator Task ID\n",
    "    task_id = a['@name']\n",
    "    \n",
    "    #CDW Operator Name\n",
    "    step_name = task_id+\"_Step\"\n",
    "       \n",
    "    #Parsing SQL from Hive file\n",
    "    with open(a['hive']['script'], 'r') as f:\n",
    "        hive_sql = f.read()\n",
    "        cdw_query = hive_sql.replace(\"\\n\", \"\")\n",
    "        \n",
    "    return task_id, step_name, cdw_query"
   ]
  },
  {
   "cell_type": "code",
   "execution_count": 331,
   "id": "925baed6-0f74-40c2-94cd-c0950bda1209",
   "metadata": {},
   "outputs": [
    {
     "ename": "TypeError",
     "evalue": "list indices must be integers or slices, not str",
     "output_type": "error",
     "traceback": [
      "\u001b[0;31m---------------------------------------------------------------------------\u001b[0m",
      "\u001b[0;31mTypeError\u001b[0m                                 Traceback (most recent call last)",
      "\u001b[0;32m/tmp/ipykernel_203/125780802.py\u001b[0m in \u001b[0;36m<module>\u001b[0;34m\u001b[0m\n\u001b[0;32m----> 1\u001b[0;31m \u001b[0;32mwith\u001b[0m \u001b[0mopen\u001b[0m\u001b[0;34m(\u001b[0m\u001b[0md\u001b[0m\u001b[0;34m[\u001b[0m\u001b[0;34m'workflow-app'\u001b[0m\u001b[0;34m]\u001b[0m\u001b[0;34m[\u001b[0m\u001b[0;34m'action'\u001b[0m\u001b[0;34m]\u001b[0m\u001b[0;34m[\u001b[0m\u001b[0;34m'hive'\u001b[0m\u001b[0;34m]\u001b[0m\u001b[0;34m[\u001b[0m\u001b[0;34m'script'\u001b[0m\u001b[0;34m]\u001b[0m\u001b[0;34m,\u001b[0m \u001b[0;34m'r'\u001b[0m\u001b[0;34m)\u001b[0m \u001b[0;32mas\u001b[0m \u001b[0mf\u001b[0m\u001b[0;34m:\u001b[0m\u001b[0;34m\u001b[0m\u001b[0;34m\u001b[0m\u001b[0m\n\u001b[0m\u001b[1;32m      2\u001b[0m         \u001b[0mhive_sql\u001b[0m \u001b[0;34m=\u001b[0m \u001b[0mf\u001b[0m\u001b[0;34m.\u001b[0m\u001b[0mread\u001b[0m\u001b[0;34m(\u001b[0m\u001b[0;34m)\u001b[0m\u001b[0;34m\u001b[0m\u001b[0;34m\u001b[0m\u001b[0m\n\u001b[1;32m      3\u001b[0m         \u001b[0mcdw_query\u001b[0m \u001b[0;34m=\u001b[0m \u001b[0mhive_sql\u001b[0m\u001b[0;34m.\u001b[0m\u001b[0mreplace\u001b[0m\u001b[0;34m(\u001b[0m\u001b[0;34m\"\\n\"\u001b[0m\u001b[0;34m,\u001b[0m \u001b[0;34m\"\"\u001b[0m\u001b[0;34m)\u001b[0m\u001b[0;34m\u001b[0m\u001b[0;34m\u001b[0m\u001b[0m\n",
      "\u001b[0;31mTypeError\u001b[0m: list indices must be integers or slices, not str"
     ]
    }
   ],
   "source": [
    "with open(d['workflow-app']['action']['hive']['script'], 'r') as f:\n",
    "        hive_sql = f.read()\n",
    "        cdw_query = hive_sql.replace(\"\\n\", \"\")"
   ]
  },
  {
   "cell_type": "code",
   "execution_count": 333,
   "id": "893e30a0-466c-44c7-8c14-2f4e3b605d46",
   "metadata": {},
   "outputs": [
    {
     "ename": "TypeError",
     "evalue": "list indices must be integers or slices, not str",
     "output_type": "error",
     "traceback": [
      "\u001b[0;31m---------------------------------------------------------------------------\u001b[0m",
      "\u001b[0;31mTypeError\u001b[0m                                 Traceback (most recent call last)",
      "\u001b[0;32m/tmp/ipykernel_203/931201055.py\u001b[0m in \u001b[0;36m<module>\u001b[0;34m\u001b[0m\n\u001b[0;32m----> 1\u001b[0;31m \u001b[0md\u001b[0m\u001b[0;34m[\u001b[0m\u001b[0;34m'workflow-app'\u001b[0m\u001b[0;34m]\u001b[0m\u001b[0;34m[\u001b[0m\u001b[0;34m'action'\u001b[0m\u001b[0;34m]\u001b[0m\u001b[0;34m[\u001b[0m\u001b[0;34m'hive'\u001b[0m\u001b[0;34m]\u001b[0m\u001b[0;34m\u001b[0m\u001b[0;34m\u001b[0m\u001b[0m\n\u001b[0m",
      "\u001b[0;31mTypeError\u001b[0m: list indices must be integers or slices, not str"
     ]
    }
   ],
   "source": [
    "d['workflow-app']['action']['hive']"
   ]
  },
  {
   "cell_type": "code",
   "execution_count": 334,
   "id": "9d425d64-63a7-42c7-8f36-e9a9959873d4",
   "metadata": {},
   "outputs": [
    {
     "data": {
      "text/plain": [
       "{'workflow-app': {'@xmlns': 'uri:oozie:workflow:0.4',\n",
       "  '@name': 'simple-Workflow',\n",
       "  'start': {'@to': 'Create_External_Table'},\n",
       "  'action': [{'@name': 'Create_External_Table',\n",
       "    'hive': {'@xmlns': 'uri:oozie:hive-action:0.4',\n",
       "     'job-tracker': 'xyz.com:8088',\n",
       "     'name-node': 'hdfs://rootname',\n",
       "     'script': 'hdfs_path_of_script/external.hive'},\n",
       "    'ok': {'@to': 'Create_orc_Table'},\n",
       "    'error': {'@to': 'kill_job'}},\n",
       "   {'@name': 'Create_orc_Table',\n",
       "    'hive': {'@xmlns': 'uri:oozie:hive-action:0.4',\n",
       "     'job-tracker': 'xyz.com:8088',\n",
       "     'name-node': 'hdfs://rootname',\n",
       "     'script': 'hdfs_path_of_script/orc.hive'},\n",
       "    'ok': {'@to': 'Insert_into_Table'},\n",
       "    'error': {'@to': 'kill_job'}},\n",
       "   {'@name': 'Insert_into_Table',\n",
       "    'hive': {'@xmlns': 'uri:oozie:hive-action:0.4',\n",
       "     'job-tracker': 'xyz.com:8088',\n",
       "     'name-node': 'hdfs://rootname',\n",
       "     'script': 'hdfs_path_of_script/Copydata.hive',\n",
       "     'param': 'database_name'},\n",
       "    'ok': {'@to': 'end'},\n",
       "    'error': {'@to': 'kill_job'}}],\n",
       "  'kill': {'@name': 'kill_job', 'message': 'Job failed'},\n",
       "  'end': {'@name': 'end'}}}"
      ]
     },
     "execution_count": 334,
     "metadata": {},
     "output_type": "execute_result"
    }
   ],
   "source": [
    "d"
   ]
  },
  {
   "cell_type": "code",
   "execution_count": null,
   "id": "4cac98ce-fbe0-414f-84ee-b35eb66a9478",
   "metadata": {},
   "outputs": [],
   "source": []
  },
  {
   "cell_type": "code",
   "execution_count": null,
   "id": "54645836-8de3-4846-bf85-1d07a07d2454",
   "metadata": {},
   "outputs": [],
   "source": []
  },
  {
   "cell_type": "code",
   "execution_count": null,
   "id": "2604365b-7dc4-43fc-bf58-34900be0a81c",
   "metadata": {},
   "outputs": [],
   "source": []
  },
  {
   "cell_type": "code",
   "execution_count": null,
   "id": "5b579e04-13e3-47f9-a465-066b2c110891",
   "metadata": {},
   "outputs": [],
   "source": []
  },
  {
   "cell_type": "code",
   "execution_count": null,
   "id": "8a6e9bf4-5c47-4121-a194-7ddcc45e170c",
   "metadata": {},
   "outputs": [],
   "source": []
  },
  {
   "cell_type": "code",
   "execution_count": 327,
   "id": "daa7201a-372d-4f9a-a917-99e4365f8454",
   "metadata": {},
   "outputs": [],
   "source": [
    "initialize_dag()"
   ]
  },
  {
   "cell_type": "code",
   "execution_count": 328,
   "id": "e21750fe-4d9c-474c-9d3e-c7bf18465102",
   "metadata": {},
   "outputs": [],
   "source": [
    "dag_imports()"
   ]
  },
  {
   "cell_type": "code",
   "execution_count": 329,
   "id": "224dbc7c-58d0-451d-a3d7-6891c8a021d7",
   "metadata": {},
   "outputs": [],
   "source": [
    "dag_declaration()"
   ]
  },
  {
   "cell_type": "code",
   "execution_count": 324,
   "id": "91073b53-a740-430e-8a21-5024ed281f24",
   "metadata": {},
   "outputs": [
    {
     "ename": "TypeError",
     "evalue": "'NoneType' object is not subscriptable",
     "output_type": "error",
     "traceback": [
      "\u001b[0;31m---------------------------------------------------------------------------\u001b[0m",
      "\u001b[0;31mTypeError\u001b[0m                                 Traceback (most recent call last)",
      "\u001b[0;32m/tmp/ipykernel_203/3345171377.py\u001b[0m in \u001b[0;36m<module>\u001b[0;34m\u001b[0m\n\u001b[0;32m----> 1\u001b[0;31m \u001b[0mtask_id\u001b[0m\u001b[0;34m,\u001b[0m \u001b[0mstep_name\u001b[0m\u001b[0;34m,\u001b[0m \u001b[0mspark_cde_job_name\u001b[0m \u001b[0;34m=\u001b[0m \u001b[0mparse_spark_oozie_action\u001b[0m\u001b[0;34m(\u001b[0m\u001b[0ms\u001b[0m\u001b[0;34m)\u001b[0m\u001b[0;34m\u001b[0m\u001b[0;34m\u001b[0m\u001b[0m\n\u001b[0m",
      "\u001b[0;32m/tmp/ipykernel_203/634484053.py\u001b[0m in \u001b[0;36mparse_spark_oozie_action\u001b[0;34m(d)\u001b[0m\n\u001b[1;32m      1\u001b[0m \u001b[0;32mdef\u001b[0m \u001b[0mparse_spark_oozie_action\u001b[0m\u001b[0;34m(\u001b[0m\u001b[0md\u001b[0m\u001b[0;34m)\u001b[0m\u001b[0;34m:\u001b[0m\u001b[0;34m\u001b[0m\u001b[0;34m\u001b[0m\u001b[0m\n\u001b[1;32m      2\u001b[0m \u001b[0;34m\u001b[0m\u001b[0m\n\u001b[0;32m----> 3\u001b[0;31m     \u001b[0;32mif\u001b[0m \u001b[0;34m\"spark\"\u001b[0m \u001b[0;32min\u001b[0m \u001b[0md\u001b[0m\u001b[0;34m[\u001b[0m\u001b[0;34m\"workflow-app\"\u001b[0m\u001b[0;34m]\u001b[0m\u001b[0;34m[\u001b[0m\u001b[0;34m\"action\"\u001b[0m\u001b[0;34m]\u001b[0m\u001b[0;34m.\u001b[0m\u001b[0mkeys\u001b[0m\u001b[0;34m(\u001b[0m\u001b[0;34m)\u001b[0m\u001b[0;34m:\u001b[0m\u001b[0;34m\u001b[0m\u001b[0;34m\u001b[0m\u001b[0m\n\u001b[0m\u001b[1;32m      4\u001b[0m \u001b[0;34m\u001b[0m\u001b[0m\n\u001b[1;32m      5\u001b[0m         \u001b[0mtask_id\u001b[0m \u001b[0;34m=\u001b[0m \u001b[0md\u001b[0m\u001b[0;34m[\u001b[0m\u001b[0;34m\"workflow-app\"\u001b[0m\u001b[0;34m]\u001b[0m\u001b[0;34m[\u001b[0m\u001b[0;34m\"action\"\u001b[0m\u001b[0;34m]\u001b[0m\u001b[0;34m[\u001b[0m\u001b[0;34m\"spark\"\u001b[0m\u001b[0;34m]\u001b[0m\u001b[0;34m[\u001b[0m\u001b[0;34m\"name\"\u001b[0m\u001b[0;34m]\u001b[0m\u001b[0;34m\u001b[0m\u001b[0;34m\u001b[0m\u001b[0m\n",
      "\u001b[0;31mTypeError\u001b[0m: 'NoneType' object is not subscriptable"
     ]
    }
   ],
   "source": [
    "task_id, step_name, spark_cde_job_name = parse_spark_oozie_action(s)"
   ]
  },
  {
   "cell_type": "code",
   "execution_count": 325,
   "id": "1104e6d3-936a-4fe5-8737-27740a1c6c47",
   "metadata": {},
   "outputs": [
    {
     "ename": "NameError",
     "evalue": "name 'task_id' is not defined",
     "output_type": "error",
     "traceback": [
      "\u001b[0;31m---------------------------------------------------------------------------\u001b[0m",
      "\u001b[0;31mNameError\u001b[0m                                 Traceback (most recent call last)",
      "\u001b[0;32m/tmp/ipykernel_203/4257310605.py\u001b[0m in \u001b[0;36m<module>\u001b[0;34m\u001b[0m\n\u001b[0;32m----> 1\u001b[0;31m \u001b[0mappend_cde_spark_operator\u001b[0m\u001b[0;34m(\u001b[0m\u001b[0mtask_id\u001b[0m\u001b[0;34m,\u001b[0m \u001b[0mstep_name\u001b[0m\u001b[0;34m,\u001b[0m \u001b[0mspark_cde_job_name\u001b[0m\u001b[0;34m)\u001b[0m\u001b[0;34m\u001b[0m\u001b[0;34m\u001b[0m\u001b[0m\n\u001b[0m",
      "\u001b[0;31mNameError\u001b[0m: name 'task_id' is not defined"
     ]
    }
   ],
   "source": [
    "append_cde_spark_operator(task_id, step_name, spark_cde_job_name)"
   ]
  },
  {
   "cell_type": "code",
   "execution_count": 355,
   "id": "69d4c6ea-4507-4d19-b653-a5d76bc95768",
   "metadata": {},
   "outputs": [
    {
     "ename": "NameError",
     "evalue": "name 'a' is not defined",
     "output_type": "error",
     "traceback": [
      "\u001b[0;31m---------------------------------------------------------------------------\u001b[0m",
      "\u001b[0;31mNameError\u001b[0m                                 Traceback (most recent call last)",
      "\u001b[0;32m/tmp/ipykernel_203/1414751844.py\u001b[0m in \u001b[0;36m<module>\u001b[0;34m\u001b[0m\n\u001b[0;32m----> 1\u001b[0;31m \u001b[0mtask_id\u001b[0m\u001b[0;34m,\u001b[0m \u001b[0mstep_name\u001b[0m\u001b[0;34m,\u001b[0m \u001b[0mcdw_query\u001b[0m \u001b[0;34m=\u001b[0m \u001b[0mparse_hive_oozie_action\u001b[0m\u001b[0;34m(\u001b[0m\u001b[0ma\u001b[0m\u001b[0;34m)\u001b[0m\u001b[0;34m\u001b[0m\u001b[0;34m\u001b[0m\u001b[0m\n\u001b[0m",
      "\u001b[0;31mNameError\u001b[0m: name 'a' is not defined"
     ]
    }
   ],
   "source": [
    "task_id, step_name, cdw_query = parse_hive_oozie_action(a)"
   ]
  },
  {
   "cell_type": "code",
   "execution_count": 121,
   "id": "d7f93dd7-a959-4cce-b9db-8dea695ab5bc",
   "metadata": {},
   "outputs": [],
   "source": [
    "append_cdw_operator(task_id, step_name, cdw_query)"
   ]
  },
  {
   "cell_type": "code",
   "execution_count": null,
   "id": "2e11e018-bd0c-401d-b244-6eb25ca6fad9",
   "metadata": {},
   "outputs": [],
   "source": []
  },
  {
   "cell_type": "code",
   "execution_count": null,
   "id": "dced5207-6f97-421f-9b46-732ce365dd6e",
   "metadata": {},
   "outputs": [],
   "source": []
  },
  {
   "cell_type": "code",
   "execution_count": null,
   "id": "3bcfde1c-5278-4c85-997a-0a75df672971",
   "metadata": {},
   "outputs": [],
   "source": []
  }
 ],
 "metadata": {
  "kernelspec": {
   "display_name": "Python 3 (ipykernel)",
   "language": "python",
   "name": "python3"
  },
  "language_info": {
   "codemirror_mode": {
    "name": "ipython",
    "version": 3
   },
   "file_extension": ".py",
   "mimetype": "text/x-python",
   "name": "python",
   "nbconvert_exporter": "python",
   "pygments_lexer": "ipython3",
   "version": "3.7.13"
  }
 },
 "nbformat": 4,
 "nbformat_minor": 5
}
