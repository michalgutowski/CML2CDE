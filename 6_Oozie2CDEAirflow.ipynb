{
 "cells": [
  {
   "cell_type": "markdown",
   "id": "cc821eca-d455-4b3e-9724-1e1165601375",
   "metadata": {},
   "source": [
    "## Migrating Oozie Workflows to Airflow CDE DAGs"
   ]
  },
  {
   "cell_type": "code",
   "execution_count": 197,
   "id": "f2694c89-d7b2-48d7-97bf-c6880fe647ff",
   "metadata": {},
   "outputs": [],
   "source": [
    "import numpy as np\n",
    "import pandas as pd\n",
    "import os\n",
    "from os.path import exists\n",
    "import json\n",
    "import sys\n",
    "import re\n",
    "import requests\n",
    "from requests_toolbelt import MultipartEncoder\n",
    "import xmltodict as xd\n",
    "import pyparsing"
   ]
  },
  {
   "cell_type": "markdown",
   "id": "96bf7eef-027e-41dd-b52c-5a289b4ce59f",
   "metadata": {},
   "source": [
    "#### Converting Shell Oozie Actions to Airflow Bash Operators"
   ]
  },
  {
   "cell_type": "code",
   "execution_count": 192,
   "id": "e1fc1485-50af-4644-99e2-043083eeffe2",
   "metadata": {},
   "outputs": [],
   "source": [
    "def ooziexml_to_dict(oozie_workflow_path):\n",
    "\n",
    "    #\"oozie_workflows/oozie_hive_workflow_with_properties\"\n",
    "    \n",
    "    #Ensuring there is only one workflow xml file in the dir\n",
    "    if len([file for file in os.listdir(oozie_workflow_path) if \".xml\" in file]) == 1:\n",
    "    \n",
    "        #Parsing properties file\n",
    "        for file in os.listdir(oozie_workflow_path):\n",
    "            if \".xml\" in file:\n",
    "                print(\"Oozie workflow file {} found\".format(file))\n",
    "                with open(oozie_workflow_path+\"/\"+file,'rb') as f:\n",
    "                    d = xd.parse(f)\n",
    "                    return d\n",
    "                \n",
    "    elif len([file for file in os.listdir(oozie_workflow_path) if \".xml\" in file]) == 0:\n",
    "        \n",
    "        print(\"No Oozie workflow file found.\\n\")\n",
    "        print(\"If Oozie workflow file is expected, please ensure it is in the workflow directory.\\n\")\n",
    "        print(\"If Oozie workflow file is not expected, please ignore this message.\\n\")\n",
    "        \n",
    "    else:\n",
    "              \n",
    "        print(\"Error. Only one Oozie workflow file per workflow directory expected.\\n\")\n",
    "        print(\"Please remove the Oozie workflow file that is not associated with this project.\\n\")"
   ]
  },
  {
   "cell_type": "code",
   "execution_count": 193,
   "id": "469c515e-b1bf-42cd-8254-815cd335b80d",
   "metadata": {},
   "outputs": [],
   "source": [
    "def parse_workflow_properties(oozie_workflow_path):\n",
    "    \n",
    "    #\"oozie_workflows/oozie_hive_workflow_with_properties\"\n",
    "    \n",
    "    #Ensuring there is only one properties file in the dir\n",
    "    if len([file for file in os.listdir(oozie_workflow_path) if \".properties\" in file]) == 1:\n",
    "    \n",
    "        #Parsing properties file\n",
    "        for file in os.listdir(oozie_workflow_path):\n",
    "            if \".properties\" in file:\n",
    "                print(\"Properties file {} found\".format(file))\n",
    "                with open(oozie_workflow_path+\"/\"+file) as f:\n",
    "                    properties_file = f.read()\n",
    "                    properties_dict = dict([tuple(i.split(\"=\")) for i in properties_file.split(\"\\n\") if len(tuple(i.split(\"=\"))) > 1])\n",
    "                    properties_dict = {x.replace(' ', ''): v.replace(' ','') for x, v in properties_dict.items()}\n",
    "                    \n",
    "                    return properties_dict\n",
    "                    \n",
    "    elif len([file for file in os.listdir(oozie_workflow_path) if \".properties\" in file]) == 0:\n",
    "        \n",
    "        print(\"No properties file found.\\n\")\n",
    "        print(\"If properties file is expected, please ensure it is in the workflow directory.\\n\")\n",
    "        print(\"If properties file is not expected, please ignore this message.\\n\")\n",
    "        \n",
    "    else:\n",
    "              \n",
    "        print(\"Error. Only one properties file per workflow directory expected.\\n\")\n",
    "        print(\"Please remove the properties file that is not associated with this workflow.\\n\")"
   ]
  },
  {
   "cell_type": "code",
   "execution_count": 194,
   "id": "a5c8d687-0846-41cc-b7c3-99191a0e05dd",
   "metadata": {},
   "outputs": [
    {
     "name": "stdout",
     "output_type": "stream",
     "text": [
      "Oozie workflow file hive_properties_workflow.xml found\n"
     ]
    },
    {
     "data": {
      "text/plain": [
       "{'workflow-app': {'@xmlns': 'uri:oozie:workflow:0.4',\n",
       "  '@name': 'simple-Workflow',\n",
       "  'start': {'@to': 'Create_External_Table'},\n",
       "  'action': [{'@name': 'Create_External_Table',\n",
       "    'hive': {'@xmlns': 'uri:oozie:hive-action:0.4',\n",
       "     'job-tracker': '${jobTracker}',\n",
       "     'name-node': '${nameNode}',\n",
       "     'script': '${script_name_external}'},\n",
       "    'ok': {'@to': 'Create_orc_Table'},\n",
       "    'error': {'@to': 'kill_job'}},\n",
       "   {'@name': 'Create_orc_Table',\n",
       "    'hive': {'@xmlns': 'uri:oozie:hive-action:0.4',\n",
       "     'job-tracker': '${jobTracker}',\n",
       "     'name-node': '${nameNode}',\n",
       "     'script': '${script_name_orc}'},\n",
       "    'ok': {'@to': 'Insert_into_Table'},\n",
       "    'error': {'@to': 'kill_job'}},\n",
       "   {'@name': 'Insert_into_Table',\n",
       "    'hive': {'@xmlns': 'uri:oozie:hive-action:0.4',\n",
       "     'job-tracker': '${jobTracker}',\n",
       "     'name-node': '${nameNode}',\n",
       "     'script': '${script_name_copy}',\n",
       "     'param': '${database}'},\n",
       "    'ok': {'@to': 'end'},\n",
       "    'error': {'@to': 'kill_job'}}],\n",
       "  'kill': {'@name': 'kill_job', 'message': 'Job failed'},\n",
       "  'end': {'@name': 'end'}}}"
      ]
     },
     "execution_count": 194,
     "metadata": {},
     "output_type": "execute_result"
    }
   ],
   "source": [
    "d = ooziexml_to_dict(\"oozie_workflows/oozie_hive_workflow_with_properties\")\n",
    "d"
   ]
  },
  {
   "cell_type": "code",
   "execution_count": 195,
   "id": "e691bfcf-6616-42ff-9ea5-db65bc87aa7a",
   "metadata": {},
   "outputs": [
    {
     "name": "stdout",
     "output_type": "stream",
     "text": [
      "Properties file job1.properties found\n"
     ]
    },
    {
     "data": {
      "text/plain": [
       "{'nameNode': 'hdfs://rootname',\n",
       " 'jobTracker': 'xyz.com:8088',\n",
       " 'script_name_external': 'hdfs_path_of_script/external.hive',\n",
       " 'script_name_orc': 'hdfs_path_of_script/orc.hive',\n",
       " 'script_name_copy': 'hdfs_path_of_script/Copydata.hive',\n",
       " 'database': 'database_name'}"
      ]
     },
     "execution_count": 195,
     "metadata": {},
     "output_type": "execute_result"
    }
   ],
   "source": [
    "props = parse_workflow_properties(\"oozie_workflows/oozie_hive_workflow_with_properties\")\n",
    "props"
   ]
  },
  {
   "cell_type": "code",
   "execution_count": 85,
   "id": "77f7d268-c607-4fe8-8c52-0409864c7b88",
   "metadata": {},
   "outputs": [
    {
     "name": "stdout",
     "output_type": "stream",
     "text": [
      "Error. Only one Oozie workflow file per workflow directory expected.\n",
      "\n",
      "Please remove the Oozie workflow file that is not associated with this project.\n",
      "\n"
     ]
    }
   ],
   "source": [
    "s = ooziexml_to_dict(\"oozie_workflows\")"
   ]
  },
  {
   "cell_type": "code",
   "execution_count": 214,
   "id": "f5291c12-050e-4163-b44a-93c8f21b5ae7",
   "metadata": {},
   "outputs": [
    {
     "data": {
      "text/plain": [
       "'{\"workflow-app\": {\"@xmlns\": \"uri:oozie:workflow:0.4\", \"@name\": \"simple-Workflow\", \"start\": {\"@to\": \"Create_External_Table\"}, \"action\": [{\"@name\": \"Create_External_Table\", \"hive\": {\"@xmlns\": \"uri:oozie:hive-action:0.4\", \"job-tracker\": \"${jobTracker}\", \"name-node\": \"${nameNode}\", \"script\": \"${script_name_external}\"}, \"ok\": {\"@to\": \"Create_orc_Table\"}, \"error\": {\"@to\": \"kill_job\"}}, {\"@name\": \"Create_orc_Table\", \"hive\": {\"@xmlns\": \"uri:oozie:hive-action:0.4\", \"job-tracker\": \"${jobTracker}\", \"name-node\": \"${nameNode}\", \"script\": \"${script_name_orc}\"}, \"ok\": {\"@to\": \"Insert_into_Table\"}, \"error\": {\"@to\": \"kill_job\"}}, {\"@name\": \"Insert_into_Table\", \"hive\": {\"@xmlns\": \"uri:oozie:hive-action:0.4\", \"job-tracker\": \"${jobTracker}\", \"name-node\": \"${nameNode}\", \"script\": \"${script_name_copy}\", \"param\": \"${database}\"}, \"ok\": {\"@to\": \"end\"}, \"error\": {\"@to\": \"kill_job\"}}], \"kill\": {\"@name\": \"kill_job\", \"message\": \"Job failed\"}, \"end\": {\"@name\": \"end\"}}}'"
      ]
     },
     "execution_count": 214,
     "metadata": {},
     "output_type": "execute_result"
    }
   ],
   "source": [
    "json.dumps(d)"
   ]
  },
  {
   "cell_type": "code",
   "execution_count": 216,
   "id": "88f2f464-a58b-4534-961e-8bee356c54b1",
   "metadata": {},
   "outputs": [
    {
     "name": "stdout",
     "output_type": "stream",
     "text": [
      "{\"workflow-app\": {\"@xmlns\": \"uri:oozie:workflow:0.4\", \"@name\": \"simple-Workflow\", \"start\": {\"@to\": \"Create_External_Table\"}, \"action\": [{\"@name\": \"Create_External_Table\", \"hive\": {\"@xmlns\": \"uri:oozie:hive-action:0.4\", \"job-tracker\": \"${xyz.com:8088}\", \"name-node\": \"${hdfs://rootname}\", \"script\": \"${hdfs_path_of_script/external.hive}\"}, \"ok\": {\"@to\": \"Create_orc_Table\"}, \"error\": {\"@to\": \"kill_job\"}}, {\"@name\": \"Create_orc_Table\", \"hive\": {\"@xmlns\": \"uri:oozie:hive-action:0.4\", \"job-tracker\": \"${xyz.com:8088}\", \"name-node\": \"${hdfs://rootname}\", \"script\": \"${hdfs_path_of_script/orc.hive}\"}, \"ok\": {\"@to\": \"Insert_into_Table\"}, \"error\": {\"@to\": \"kill_job\"}}, {\"@name\": \"Insert_into_Table\", \"hive\": {\"@xmlns\": \"uri:oozie:hive-action:0.4\", \"job-tracker\": \"${xyz.com:8088}\", \"name-node\": \"${hdfs://rootname}\", \"script\": \"${hdfs_path_of_script/Copydata.hive}\", \"param\": \"${database_name}\"}, \"ok\": {\"@to\": \"end\"}, \"error\": {\"@to\": \"kill_job\"}}], \"kill\": {\"@name\": \"kill_job\", \"message\": \"Job failed\"}, \"end\": {\"@name\": \"end\"}}}\n"
     ]
    }
   ],
   "source": [
    "string = json.dumps(d)\n",
    "\n",
    "for k, v in props.items():\n",
    "    \n",
    "    string = string.replace(k, v)\n",
    "print(string)"
   ]
  },
  {
   "cell_type": "code",
   "execution_count": 243,
   "id": "6ed0af95-7783-4d74-89a9-94b36b22726d",
   "metadata": {},
   "outputs": [
    {
     "name": "stdout",
     "output_type": "stream",
     "text": [
      "{\"workflow-app\": {\"@xmlns\": \"uri:oozie:workflow:0.4\", \"@name\": \"simple-Workflow\", \"start\": {\"@to\": \"Create_External_Table\"}, \"action\": [{\"@name\": \"Create_External_Table\", \"hive\": {\"@xmlns\": \"uri:oozie:hive-action:0.4\", \"job-tracker\": \"${xyz.com:8088}\", \"name-node\": \"${hdfs://rootname}\", \"script\": \"${hdfs_path_of_script/external.hive}\"}, \"ok\": {\"@to\": \"Create_orc_Table\"}, \"error\": {\"@to\": \"kill_job\"}}, {\"@name\": \"Create_orc_Table\", \"hive\": {\"@xmlns\": \"uri:oozie:hive-action:0.4\", \"job-tracker\": \"${xyz.com:8088}\", \"name-node\": \"${hdfs://rootname}\", \"script\": \"${hdfs_path_of_script/orc.hive}\"}, \"ok\": {\"@to\": \"Insert_into_Table\"}, \"error\": {\"@to\": \"kill_job\"}}, {\"@name\": \"Insert_into_Table\", \"hive\": {\"@xmlns\": \"uri:oozie:hive-action:0.4\", \"job-tracker\": \"${xyz.com:8088}\", \"name-node\": \"${hdfs://rootname}\", \"script\": \"${hdfs_path_of_script/Copydata.hive}\", \"param\": \"${database_name}\"}, \"ok\": {\"@to\": \"end\"}, \"error\": {\"@to\": \"kill_job\"}}], \"kill\": {\"@name\": \"kill_job\", \"message\": \"Job failed\"}, \"end\": {\"@name\": \"end\"}}}\n"
     ]
    }
   ],
   "source": [
    "import re\n",
    "\n",
    "print(re.sub('\"[${*}]\"', '', string))"
   ]
  },
  {
   "cell_type": "code",
   "execution_count": 248,
   "id": "d651c680-7c45-475d-8601-5992aa006e2b",
   "metadata": {},
   "outputs": [
    {
     "data": {
      "text/plain": [
       "'{\"workflow-app\": {\"@xmlns\": \"uri:oozie:workflow:0.4\", \"@name\": \"simple-Workflow\", \"start\": {\"@to\": \"Create_External_Table\"}, \"action\": [{\"@name\": \"Create_External_Table\", \"hive\": {\"@xmlns\": \"uri:oozie:hive-action:0.4\", \"job-tracker\": \"${xyz.com:8088}\", \"name-node\": \"${hdfs://rootname}\", \"script\": \"${hdfs_path_of_script/external.hive}\"}, \"ok\": {\"@to\": \"Create_orc_Table\"}, \"error\": {\"@to\": \"kill_job\"}}, {\"@name\": \"Create_orc_Table\", \"hive\": {\"@xmlns\": \"uri:oozie:hive-action:0.4\", \"job-tracker\": \"${xyz.com:8088}\", \"name-node\": \"${hdfs://rootname}\", \"script\": \"${hdfs_path_of_script/orc.hive}\"}, \"ok\": {\"@to\": \"Insert_into_Table\"}, \"error\": {\"@to\": \"kill_job\"}}, {\"@name\": \"Insert_into_Table\", \"hive\": {\"@xmlns\": \"uri:oozie:hive-action:0.4\", \"job-tracker\": \"${xyz.com:8088}\", \"name-node\": \"${hdfs://rootname}\", \"script\": \"${hdfs_path_of_script/Copydata.hive}\", \"param\": \"${database_name}\"}, \"ok\": {\"@to\": \"end\"}, \"error\": {\"@to\": \"kill_job\"}}], \"kill\": {\"@name\": \"kill_job\", \"message\": \"Job failed\"}, \"end\": {\"@name\": \"end\"}}}'"
      ]
     },
     "execution_count": 248,
     "metadata": {},
     "output_type": "execute_result"
    }
   ],
   "source": [
    "string"
   ]
  },
  {
   "cell_type": "code",
   "execution_count": null,
   "id": "232f3c27-d3e9-4045-9f65-9cd174a3934a",
   "metadata": {},
   "outputs": [],
   "source": [
    "import re\n",
    "exp = '\\$\\d+(,|\\.)?\\d+'\n",
    "s = '$1,000|hi,you|$45.43'\n",
    "'|'.join(i.translate(None, '$,') if re.match(exp, i) else i for i in s.split('|'))"
   ]
  },
  {
   "cell_type": "code",
   "execution_count": 247,
   "id": "7252324f-1975-4d1d-a946-6fb7c8c81be9",
   "metadata": {},
   "outputs": [
    {
     "data": {
      "text/plain": [
       "'{\"workflow-app\": {\"@xmlns\": \"uri:oozie:workflow:0.4\", \"@name\": \"simple-Workflow\", \"start\": {\"@to\": \"Create_External_Table\"}, \"action\": [{\"@name\": \"Create_External_Table\", \"hive\": {\"@xmlns\": \"uri:oozie:hive-action:0.4\", \"job-tracker\": \"${xyz.com:8088}\", \"name-node\": \"${hdfs://rootname}\", \"script\": \"${hdfs_path_of_script/external.hive}\"}, \"ok\": {\"@to\": \"Create_orc_Table\"}, \"error\": {\"@to\": \"kill_job\"}}, {\"@name\": \"Create_orc_Table\", \"hive\": {\"@xmlns\": \"uri:oozie:hive-action:0.4\", \"job-tracker\": \"${xyz.com:8088}\", \"name-node\": \"${hdfs://rootname}\", \"script\": \"${hdfs_path_of_script/orc.hive}\"}, \"ok\": {\"@to\": \"Insert_into_Table\"}, \"error\": {\"@to\": \"kill_job\"}}, {\"@name\": \"Insert_into_Table\", \"hive\": {\"@xmlns\": \"uri:oozie:hive-action:0.4\", \"job-tracker\": \"${xyz.com:8088}\", \"name-node\": \"${hdfs://rootname}\", \"script\": \"${hdfs_path_of_script/Copydata.hive}\", \"param\": \"${database_name}\"}, \"ok\": {\"@to\": \"end\"}, \"error\": {\"@to\": \"kill_job\"}}], \"kill\": {\"@name\": \"kill_job\", \"message\": \"Job failed\"}, \"end\": {\"@name\": \"end\"}}}'"
      ]
     },
     "execution_count": 247,
     "metadata": {},
     "output_type": "execute_result"
    }
   ],
   "source": [
    "import re\n",
    "exp = '\\$\\d+(,\"\"\\.)?\\d+'\n",
    "'\"\"'.join(i.translate(None, '${') if re.match(exp, i) else i for i in string.split('\"\"'))"
   ]
  },
  {
   "cell_type": "code",
   "execution_count": null,
   "id": "d37ea8c2-f070-47c9-8037-9af412409bec",
   "metadata": {},
   "outputs": [],
   "source": [
    "rev_subs = { v:k for k,v in subs.iteritems()}\n",
    "[rev_subs.get(item,item)  for item in my_lst]"
   ]
  },
  {
   "cell_type": "code",
   "execution_count": 212,
   "id": "70945bb0-8f24-4134-acfb-800d4bc6f85b",
   "metadata": {},
   "outputs": [
    {
     "data": {
      "text/plain": [
       "['\"workflow-app\"',\n",
       " '\"@xmlns\"',\n",
       " '\"uri:oozie:workflow:0.4\"',\n",
       " '\"@name\"',\n",
       " '\"simple-Workflow\"',\n",
       " '\"start\"',\n",
       " '\"@to\"',\n",
       " '\"Create_External_Table\"',\n",
       " '\"action\"',\n",
       " '\"@name\"',\n",
       " '\"Create_External_Table\"',\n",
       " '\"hive\"',\n",
       " '\"@xmlns\"',\n",
       " '\"uri:oozie:hive-action:0.4\"',\n",
       " '\"job-tracker\"',\n",
       " '\"${jobTracker}\"',\n",
       " '\"name-node\"',\n",
       " '\"${nameNode}\"',\n",
       " '\"script\"',\n",
       " '\"${script_name_external}\"',\n",
       " '\"ok\"',\n",
       " '\"@to\"',\n",
       " '\"Create_orc_Table\"',\n",
       " '\"error\"',\n",
       " '\"@to\"',\n",
       " '\"kill_job\"',\n",
       " '\"@name\"',\n",
       " '\"Create_orc_Table\"',\n",
       " '\"hive\"',\n",
       " '\"@xmlns\"',\n",
       " '\"uri:oozie:hive-action:0.4\"',\n",
       " '\"job-tracker\"',\n",
       " '\"${jobTracker}\"',\n",
       " '\"name-node\"',\n",
       " '\"${nameNode}\"',\n",
       " '\"script\"',\n",
       " '\"${script_name_orc}\"',\n",
       " '\"ok\"',\n",
       " '\"@to\"',\n",
       " '\"Insert_into_Table\"',\n",
       " '\"error\"',\n",
       " '\"@to\"',\n",
       " '\"kill_job\"',\n",
       " '\"@name\"',\n",
       " '\"Insert_into_Table\"',\n",
       " '\"hive\"',\n",
       " '\"@xmlns\"',\n",
       " '\"uri:oozie:hive-action:0.4\"',\n",
       " '\"job-tracker\"',\n",
       " '\"${jobTracker}\"',\n",
       " '\"name-node\"',\n",
       " '\"${nameNode}\"',\n",
       " '\"script\"',\n",
       " '\"${script_name_copy}\"',\n",
       " '\"param\"',\n",
       " '\"${database}\"',\n",
       " '\"ok\"',\n",
       " '\"@to\"',\n",
       " '\"end\"',\n",
       " '\"error\"',\n",
       " '\"@to\"',\n",
       " '\"kill_job\"',\n",
       " '\"kill\"',\n",
       " '\"@name\"',\n",
       " '\"kill_job\"',\n",
       " '\"message\"',\n",
       " '\"Job failed\"',\n",
       " '\"end\"',\n",
       " '\"@name\"',\n",
       " '\"end\"']"
      ]
     },
     "execution_count": 212,
     "metadata": {},
     "output_type": "execute_result"
    }
   ],
   "source": [
    "import re\n",
    "quoted = re.compile('\"[^\"]*\"')\n",
    "q = quoted.findall(json.dumps(d))\n",
    "q"
   ]
  },
  {
   "cell_type": "code",
   "execution_count": 209,
   "id": "f02ef7c9-5212-46d7-8234-c1d617e74dac",
   "metadata": {},
   "outputs": [
    {
     "ename": "TypeError",
     "evalue": "translate() takes exactly one argument (2 given)",
     "output_type": "error",
     "traceback": [
      "\u001b[0;31m---------------------------------------------------------------------------\u001b[0m",
      "\u001b[0;31mTypeError\u001b[0m                                 Traceback (most recent call last)",
      "\u001b[0;32m/tmp/ipykernel_203/3875006184.py\u001b[0m in \u001b[0;36m<module>\u001b[0;34m\u001b[0m\n\u001b[1;32m      1\u001b[0m \u001b[0;32mfor\u001b[0m \u001b[0mi\u001b[0m \u001b[0;32min\u001b[0m \u001b[0mq\u001b[0m\u001b[0;34m:\u001b[0m\u001b[0;34m\u001b[0m\u001b[0;34m\u001b[0m\u001b[0m\n\u001b[0;32m----> 2\u001b[0;31m     \u001b[0mi\u001b[0m\u001b[0;34m.\u001b[0m\u001b[0mtranslate\u001b[0m\u001b[0;34m(\u001b[0m\u001b[0;34m'!@#$'\u001b[0m\u001b[0;34m,\u001b[0m \u001b[0;32mNone\u001b[0m\u001b[0;34m)\u001b[0m\u001b[0;34m\u001b[0m\u001b[0;34m\u001b[0m\u001b[0m\n\u001b[0m",
      "\u001b[0;31mTypeError\u001b[0m: translate() takes exactly one argument (2 given)"
     ]
    }
   ],
   "source": [
    "for i in q:\n",
    "    if i == "
   ]
  },
  {
   "cell_type": "code",
   "execution_count": null,
   "id": "01cbdabc-04ae-4131-a999-7dcd49031848",
   "metadata": {},
   "outputs": [],
   "source": []
  },
  {
   "cell_type": "code",
   "execution_count": null,
   "id": "3c61fcde-f162-46d3-9929-2f9da6b0974c",
   "metadata": {},
   "outputs": [],
   "source": []
  },
  {
   "cell_type": "code",
   "execution_count": null,
   "id": "c19c6db3-d556-46ec-8ecf-50cc87a1afd6",
   "metadata": {},
   "outputs": [],
   "source": []
  },
  {
   "cell_type": "code",
   "execution_count": null,
   "id": "fb39320c-f9da-4160-9a45-80dcd987b4ae",
   "metadata": {},
   "outputs": [],
   "source": []
  },
  {
   "cell_type": "code",
   "execution_count": 153,
   "id": "27bc2848-c8cc-40b1-afc7-96085d3429da",
   "metadata": {},
   "outputs": [],
   "source": [
    "import flatdict"
   ]
  },
  {
   "cell_type": "code",
   "execution_count": 168,
   "id": "0332b0d3-df83-4210-b523-0f52d39463d3",
   "metadata": {},
   "outputs": [
    {
     "data": {
      "text/plain": [
       "<FlatDict id=140293236270032 {'workflow-app.@xmlns': 'uri:oozie:workflow:0.4', 'workflow-app.@name': 'simple-Workflow', 'workflow-app.start.@to': 'Create_External_Table', 'workflow-app.action': [{'@name': 'Create_External_Table', 'hive': {'@xmlns': 'uri:oozie:hive-action:0.4', 'job-tracker': '${jobTracker}', 'name-node': '${nameNode}', 'script': '${script_name_external}'}, 'ok': {'@to': 'Create_orc_Table'}, 'error': {'@to': 'kill_job'}}, {'@name': 'Create_orc_Table', 'hive': {'@xmlns': 'uri:oozie:hive-action:0.4', 'job-tracker': '${jobTracker}', 'name-node': '${nameNode}', 'script': '${script_name_orc}'}, 'ok': {'@to': 'Insert_into_Table'}, 'error': {'@to': 'kill_job'}}, {'@name': 'Insert_into_Table', 'hive': {'@xmlns': 'uri:oozie:hive-action:0.4', 'job-tracker': '${jobTracker}', 'name-node': '${nameNode}', 'script': '${script_name_copy}', 'param': '${database}'}, 'ok': {'@to': 'end'}, 'error': {'@to': 'kill_job'}}], 'workflow-app.kill.@name': 'kill_job', 'workflow-app.kill.message': 'Job failed', 'workflow-app.end.@name': 'end'}>\""
      ]
     },
     "execution_count": 168,
     "metadata": {},
     "output_type": "execute_result"
    }
   ],
   "source": [
    "flatdict.FlatDict(d, delimiter='.')"
   ]
  },
  {
   "cell_type": "code",
   "execution_count": 185,
   "id": "8f57be44-160b-4b35-89b4-4052b5650551",
   "metadata": {},
   "outputs": [
    {
     "data": {
      "text/plain": [
       "['uri:oozie:workflow:0.4',\n",
       " 'simple-Workflow',\n",
       " 'Create_External_Table',\n",
       " 'Create_External_Table',\n",
       " 'uri:oozie:hive-action:0.4',\n",
       " '${jobTracker}',\n",
       " '${nameNode}',\n",
       " '${script_name_external}',\n",
       " 'Create_orc_Table',\n",
       " 'kill_job',\n",
       " 'Create_orc_Table',\n",
       " 'uri:oozie:hive-action:0.4',\n",
       " '${jobTracker}',\n",
       " '${nameNode}',\n",
       " '${script_name_orc}',\n",
       " 'Insert_into_Table',\n",
       " 'kill_job',\n",
       " 'Insert_into_Table',\n",
       " 'uri:oozie:hive-action:0.4',\n",
       " '${jobTracker}',\n",
       " '${nameNode}',\n",
       " '${script_name_copy}',\n",
       " '${database}',\n",
       " 'end',\n",
       " 'kill_job',\n",
       " 'kill_job',\n",
       " 'Job failed',\n",
       " 'end']"
      ]
     },
     "execution_count": 185,
     "metadata": {},
     "output_type": "execute_result"
    }
   ],
   "source": [
    "flatdict.FlatterDict(d, delimiter='.').values()"
   ]
  },
  {
   "cell_type": "code",
   "execution_count": 190,
   "id": "849873ae-0694-40c2-bebf-204038c0ca79",
   "metadata": {},
   "outputs": [
    {
     "ename": "KeyError",
     "evalue": "'${jobTracker}'",
     "output_type": "error",
     "traceback": [
      "\u001b[0;31m---------------------------------------------------------------------------\u001b[0m",
      "\u001b[0;31mKeyError\u001b[0m                                  Traceback (most recent call last)",
      "\u001b[0;32m/tmp/ipykernel_203/698487442.py\u001b[0m in \u001b[0;36m<module>\u001b[0;34m\u001b[0m\n\u001b[1;32m      1\u001b[0m \u001b[0;32mfor\u001b[0m \u001b[0mkey\u001b[0m\u001b[0;34m,\u001b[0m \u001b[0mval\u001b[0m \u001b[0;32min\u001b[0m \u001b[0mflatdict\u001b[0m\u001b[0;34m.\u001b[0m\u001b[0mFlatterDict\u001b[0m\u001b[0;34m(\u001b[0m\u001b[0md\u001b[0m\u001b[0;34m,\u001b[0m \u001b[0mdelimiter\u001b[0m\u001b[0;34m=\u001b[0m\u001b[0;34m'.'\u001b[0m\u001b[0;34m)\u001b[0m\u001b[0;34m.\u001b[0m\u001b[0mitems\u001b[0m\u001b[0;34m(\u001b[0m\u001b[0;34m)\u001b[0m\u001b[0;34m:\u001b[0m\u001b[0;34m\u001b[0m\u001b[0;34m\u001b[0m\u001b[0m\n\u001b[1;32m      2\u001b[0m     \u001b[0;32mif\u001b[0m \u001b[0mval\u001b[0m\u001b[0;34m.\u001b[0m\u001b[0mreplace\u001b[0m\u001b[0;34m(\u001b[0m\u001b[0;34m'$'\u001b[0m\u001b[0;34m,\u001b[0m\u001b[0;34m''\u001b[0m\u001b[0;34m)\u001b[0m\u001b[0;34m.\u001b[0m\u001b[0mreplace\u001b[0m\u001b[0;34m(\u001b[0m\u001b[0;34m'{'\u001b[0m\u001b[0;34m,\u001b[0m\u001b[0;34m''\u001b[0m\u001b[0;34m)\u001b[0m\u001b[0;34m.\u001b[0m\u001b[0mreplace\u001b[0m\u001b[0;34m(\u001b[0m\u001b[0;34m'}'\u001b[0m\u001b[0;34m,\u001b[0m\u001b[0;34m''\u001b[0m\u001b[0;34m)\u001b[0m \u001b[0;32min\u001b[0m \u001b[0mprops\u001b[0m\u001b[0;34m.\u001b[0m\u001b[0mkeys\u001b[0m\u001b[0;34m(\u001b[0m\u001b[0;34m)\u001b[0m\u001b[0;34m:\u001b[0m\u001b[0;34m\u001b[0m\u001b[0;34m\u001b[0m\u001b[0m\n\u001b[0;32m----> 3\u001b[0;31m         \u001b[0mkey\u001b[0m\u001b[0;34m[\u001b[0m\u001b[0mval\u001b[0m\u001b[0;34m]\u001b[0m \u001b[0;34m=\u001b[0m \u001b[0mprops\u001b[0m\u001b[0;34m[\u001b[0m\u001b[0mval\u001b[0m\u001b[0;34m]\u001b[0m\u001b[0;34m\u001b[0m\u001b[0;34m\u001b[0m\u001b[0m\n\u001b[0m",
      "\u001b[0;31mKeyError\u001b[0m: '${jobTracker}'"
     ]
    }
   ],
   "source": [
    "for key, val in flatdict.FlatterDict(d, delimiter='.').items():\n",
    "    if val.replace('$','').replace('{','').replace('}','') in props.keys():\n",
    "        key[val] = props[val]"
   ]
  },
  {
   "cell_type": "code",
   "execution_count": 188,
   "id": "73f69e66-cc2e-4673-b4c6-37f28993f2eb",
   "metadata": {},
   "outputs": [
    {
     "data": {
      "text/plain": [
       "['uri:oozie:workflow:0.4',\n",
       " 'simple-Workflow',\n",
       " 'Create_External_Table',\n",
       " 'Create_External_Table',\n",
       " 'uri:oozie:hive-action:0.4',\n",
       " '${jobTracker}',\n",
       " '${nameNode}',\n",
       " '${script_name_external}',\n",
       " 'Create_orc_Table',\n",
       " 'kill_job',\n",
       " 'Create_orc_Table',\n",
       " 'uri:oozie:hive-action:0.4',\n",
       " '${jobTracker}',\n",
       " '${nameNode}',\n",
       " '${script_name_orc}',\n",
       " 'Insert_into_Table',\n",
       " 'kill_job',\n",
       " 'Insert_into_Table',\n",
       " 'uri:oozie:hive-action:0.4',\n",
       " '${jobTracker}',\n",
       " '${nameNode}',\n",
       " '${script_name_copy}',\n",
       " '${database}',\n",
       " 'end',\n",
       " 'kill_job',\n",
       " 'kill_job',\n",
       " 'Job failed',\n",
       " 'end']"
      ]
     },
     "execution_count": 188,
     "metadata": {},
     "output_type": "execute_result"
    }
   ],
   "source": [
    "flatdict.FlatterDict(d, delimiter='.').values()"
   ]
  },
  {
   "cell_type": "code",
   "execution_count": null,
   "id": "4b46ef4d-6fee-487c-9367-88b340e18347",
   "metadata": {},
   "outputs": [],
   "source": []
  },
  {
   "cell_type": "code",
   "execution_count": null,
   "id": "72b07c87-5777-435c-a891-f5681710f647",
   "metadata": {},
   "outputs": [],
   "source": [
    "    \n",
    "        print(tup[1])\n",
    "        tup[1] = props[tup[1].replace('$','').replace('{','').replace('}','')]\n",
    "        print(tup[1])"
   ]
  },
  {
   "cell_type": "code",
   "execution_count": null,
   "id": "71afe9df-f6a8-4a16-b6bd-2cde77116748",
   "metadata": {},
   "outputs": [],
   "source": []
  },
  {
   "cell_type": "code",
   "execution_count": 89,
   "id": "00b933fd-82dc-4ef4-b2eb-3f40bcf2b8ee",
   "metadata": {},
   "outputs": [
    {
     "name": "stdout",
     "output_type": "stream",
     "text": [
      "Properties file job1.properties found\n"
     ]
    },
    {
     "data": {
      "text/plain": [
       "{'nameNode ': ' hdfs://rootname',\n",
       " 'jobTracker ': ' xyz.com:8088',\n",
       " 'script_name_external ': ' hdfs_path_of_script/external.hive',\n",
       " 'script_name_orc': 'hdfs_path_of_script/orc.hive',\n",
       " 'script_name_copy': 'hdfs_path_of_script/Copydata.hive',\n",
       " 'database ': ' database_name'}"
      ]
     },
     "execution_count": 89,
     "metadata": {},
     "output_type": "execute_result"
    }
   ],
   "source": [
    "props = parse_workflow_properties(\"oozie_workflows/oozie_hive_workflow_with_properties\")\n",
    "props"
   ]
  },
  {
   "cell_type": "code",
   "execution_count": 130,
   "id": "89cf0309-4288-4fcb-9cab-7420f5ebe69f",
   "metadata": {},
   "outputs": [],
   "source": [
    "import re\n",
    "quoted = re.compile('\"[^\"]*\"')\n",
    "for value in quoted.findall(json.dumps(d)):\n",
    "    if \"$\" in value:\n",
    "        if value in props.keys():\n",
    "            print(value)"
   ]
  },
  {
   "cell_type": "code",
   "execution_count": null,
   "id": "2102f513-77a3-4cc3-907b-e0428408994f",
   "metadata": {},
   "outputs": [],
   "source": []
  },
  {
   "cell_type": "code",
   "execution_count": null,
   "id": "cb1f0e15-ed1d-4b53-854e-fe43995654ab",
   "metadata": {},
   "outputs": [],
   "source": [
    "d = ooziexml_to_dict(\"oozie_workflows/hive_action_workflow.xml\")\n",
    "d"
   ]
  },
  {
   "cell_type": "code",
   "execution_count": null,
   "id": "5abe79a6-6e83-4910-b77b-d2c673e407ef",
   "metadata": {},
   "outputs": [],
   "source": []
  },
  {
   "cell_type": "code",
   "execution_count": 42,
   "id": "351d278a-12a8-454c-87bb-80cc80ab0e87",
   "metadata": {},
   "outputs": [],
   "source": [
    "def initialize_dag():\n",
    "    with open('airflow_dags/oozie2airflow.py', 'w') as f:\n",
    "        f.write('# The new Airflow DAG')"
   ]
  },
  {
   "cell_type": "code",
   "execution_count": 43,
   "id": "de92bf68-1650-4ad1-83bd-1f752ffddebb",
   "metadata": {},
   "outputs": [],
   "source": [
    "def dag_imports():\n",
    "    \n",
    "    imports = \"\"\"\\nfrom dateutil import parser\n",
    "    \\nfrom datetime import datetime, timedelta\n",
    "    \\nfrom datetime import timezone\n",
    "    \\nfrom airflow import DAG\n",
    "    \\nfrom cloudera.cdp.airflow.operators.cde_operator import CDEJobRunOperator\\n\\n\"\"\"\n",
    "    \n",
    "    with open('airflow_dags/oozie2airflow.py', 'a') as f:\n",
    "        f.write(imports)"
   ]
  },
  {
   "cell_type": "code",
   "execution_count": 44,
   "id": "e69beaf4-4188-46f7-8809-0b2be417f07e",
   "metadata": {},
   "outputs": [],
   "source": [
    "def dag_declaration():\n",
    "    \n",
    "    declarations = \"\"\"default_args = {\n",
    "    'owner': 'your_username_here',\n",
    "    'retry_delay': timedelta(seconds=5),\n",
    "    'depends_on_past': False,\n",
    "    'start_date': parser.isoparse('2021-05-25T07:33:37.393Z').replace(tzinfo=timezone.utc)\n",
    "    }\n",
    "\n",
    "dag = DAG(\n",
    "    'airflow-pipeline-demo',\n",
    "    default_args=default_args,\n",
    "    schedule_interval='@daily',\n",
    "    catchup=False,\n",
    "    is_paused_upon_creation=False\n",
    "    )\\n\\n\"\"\"\n",
    "    \n",
    "    with open('airflow_dags/oozie2airflow.py', 'a') as f:\n",
    "        f.write(declarations)"
   ]
  },
  {
   "cell_type": "code",
   "execution_count": 87,
   "id": "142b774f-c655-47f6-b6a0-17a744b6d766",
   "metadata": {},
   "outputs": [],
   "source": [
    "def append_cde_spark_operator(task_id, step_name, spark_cde_job_name):\n",
    "    \n",
    "    spark_operator = \"\"\"{} = CDEJobRunOperator(\n",
    "    task_id='{}',\n",
    "    dag=dag,\n",
    "    job_name='{}'\n",
    "    )\\n\\n\"\"\".format(step_name, task_id, spark_cde_job_name)\n",
    "    \n",
    "    with open('airflow_dags/oozie2airflow.py', 'a') as f:\n",
    "        f.write(spark_operator)"
   ]
  },
  {
   "cell_type": "code",
   "execution_count": 85,
   "id": "d786d564-d369-464c-af11-326aee246691",
   "metadata": {},
   "outputs": [],
   "source": [
    "def parse_spark_oozie_action(d):\n",
    "     \n",
    "    if \"spark\" in d[\"workflow-app\"][\"action\"].keys():\n",
    "\n",
    "        task_id = d[\"workflow-app\"][\"action\"][\"spark\"][\"name\"]\n",
    "        step_name = task_id+\"_Step\" \n",
    "        spark_cde_job_name = task_id\n",
    "\n",
    "    else:\n",
    "        print(\"Error. This is not a Spark Oozie Action\")\n",
    "        \n",
    "    print(\"Extracted Job Name: {}\".format(task_id))\n",
    "    return task_id, step_name, spark_cde_job_name"
   ]
  },
  {
   "cell_type": "code",
   "execution_count": 114,
   "id": "67b59f06-18b7-44a4-b778-bd45cea6bbfd",
   "metadata": {},
   "outputs": [],
   "source": [
    "def append_cdw_operator(task_id, step_name, cdw_query):\n",
    "    \n",
    "    cdw_operator = '''cdw_query = \"\"\"{}\"\"\"\n",
    "\n",
    "{} = CDWOperator(\n",
    "    task_id=\"{}\",\n",
    "    dag=dag,\n",
    "    cli_conn_id=\"hive_conn\",\n",
    "    hql=cdw_query,\n",
    "    schema='default',\n",
    "    ### CDW related args ###\n",
    "    use_proxy_user=False,\n",
    "    query_isolation=True\n",
    ")\\n\\n'''.format(cdw_query, step_name, task_id)\n",
    "    \n",
    "    with open('airflow_dags/oozie2airflow.py', 'a') as f:\n",
    "        f.write(cdw_operator)"
   ]
  },
  {
   "cell_type": "code",
   "execution_count": 95,
   "id": "a3aa6e78-aa1b-4c72-a1b4-7a00d3773b0a",
   "metadata": {},
   "outputs": [],
   "source": [
    "def parse_hive_oozie_action(d):\n",
    "    \n",
    "    #CDE Operator Task ID\n",
    "    task_id = d['workflow-app']['action']['@name']\n",
    "    \n",
    "    #CDW Operator Name\n",
    "    step_name = task_id+\"_Step\"\n",
    "       \n",
    "    #Parsing SQL from Hive file\n",
    "    with open(d['workflow-app']['action']['hive']['script'], 'r') as f:\n",
    "        hive_sql = f.read()\n",
    "        cdw_query = hive_sql.replace(\"\\n\", \"\")\n",
    "        \n",
    "    return task_id, step_name, cdw_query"
   ]
  },
  {
   "cell_type": "code",
   "execution_count": null,
   "id": "481a9bbb-4d4a-44a4-81ca-bc2e42007d04",
   "metadata": {},
   "outputs": [],
   "source": []
  },
  {
   "cell_type": "code",
   "execution_count": null,
   "id": "925baed6-0f74-40c2-94cd-c0950bda1209",
   "metadata": {},
   "outputs": [],
   "source": []
  },
  {
   "cell_type": "code",
   "execution_count": null,
   "id": "893e30a0-466c-44c7-8c14-2f4e3b605d46",
   "metadata": {},
   "outputs": [],
   "source": []
  },
  {
   "cell_type": "code",
   "execution_count": null,
   "id": "9d425d64-63a7-42c7-8f36-e9a9959873d4",
   "metadata": {},
   "outputs": [],
   "source": []
  },
  {
   "cell_type": "code",
   "execution_count": null,
   "id": "4cac98ce-fbe0-414f-84ee-b35eb66a9478",
   "metadata": {},
   "outputs": [],
   "source": []
  },
  {
   "cell_type": "code",
   "execution_count": null,
   "id": "54645836-8de3-4846-bf85-1d07a07d2454",
   "metadata": {},
   "outputs": [],
   "source": []
  },
  {
   "cell_type": "code",
   "execution_count": null,
   "id": "2604365b-7dc4-43fc-bf58-34900be0a81c",
   "metadata": {},
   "outputs": [],
   "source": []
  },
  {
   "cell_type": "code",
   "execution_count": null,
   "id": "5b579e04-13e3-47f9-a465-066b2c110891",
   "metadata": {},
   "outputs": [],
   "source": []
  },
  {
   "cell_type": "code",
   "execution_count": null,
   "id": "8a6e9bf4-5c47-4121-a194-7ddcc45e170c",
   "metadata": {},
   "outputs": [],
   "source": []
  },
  {
   "cell_type": "code",
   "execution_count": 115,
   "id": "daa7201a-372d-4f9a-a917-99e4365f8454",
   "metadata": {},
   "outputs": [],
   "source": [
    "initialize_dag()"
   ]
  },
  {
   "cell_type": "code",
   "execution_count": 116,
   "id": "e21750fe-4d9c-474c-9d3e-c7bf18465102",
   "metadata": {},
   "outputs": [],
   "source": [
    "dag_imports()"
   ]
  },
  {
   "cell_type": "code",
   "execution_count": 117,
   "id": "224dbc7c-58d0-451d-a3d7-6891c8a021d7",
   "metadata": {},
   "outputs": [],
   "source": [
    "dag_declaration()"
   ]
  },
  {
   "cell_type": "code",
   "execution_count": 118,
   "id": "91073b53-a740-430e-8a21-5024ed281f24",
   "metadata": {},
   "outputs": [
    {
     "name": "stdout",
     "output_type": "stream",
     "text": [
      "Extracted Job Name: SparkPi\n"
     ]
    }
   ],
   "source": [
    "task_id, step_name, spark_cde_job_name = parse_spark_oozie_action(s)"
   ]
  },
  {
   "cell_type": "code",
   "execution_count": 119,
   "id": "1104e6d3-936a-4fe5-8737-27740a1c6c47",
   "metadata": {},
   "outputs": [],
   "source": [
    "append_cde_spark_operator(task_id, step_name, spark_cde_job_name)"
   ]
  },
  {
   "cell_type": "code",
   "execution_count": 120,
   "id": "69d4c6ea-4507-4d19-b653-a5d76bc95768",
   "metadata": {},
   "outputs": [],
   "source": [
    "task_id, step_name, cdw_query = parse_hive_oozie_action(d)"
   ]
  },
  {
   "cell_type": "code",
   "execution_count": 121,
   "id": "d7f93dd7-a959-4cce-b9db-8dea695ab5bc",
   "metadata": {},
   "outputs": [],
   "source": [
    "append_cdw_operator(task_id, step_name, cdw_query)"
   ]
  },
  {
   "cell_type": "code",
   "execution_count": null,
   "id": "2e11e018-bd0c-401d-b244-6eb25ca6fad9",
   "metadata": {},
   "outputs": [],
   "source": []
  },
  {
   "cell_type": "code",
   "execution_count": null,
   "id": "dced5207-6f97-421f-9b46-732ce365dd6e",
   "metadata": {},
   "outputs": [],
   "source": []
  },
  {
   "cell_type": "code",
   "execution_count": null,
   "id": "3bcfde1c-5278-4c85-997a-0a75df672971",
   "metadata": {},
   "outputs": [],
   "source": []
  }
 ],
 "metadata": {
  "kernelspec": {
   "display_name": "Python 3 (ipykernel)",
   "language": "python",
   "name": "python3"
  },
  "language_info": {
   "codemirror_mode": {
    "name": "ipython",
    "version": 3
   },
   "file_extension": ".py",
   "mimetype": "text/x-python",
   "name": "python",
   "nbconvert_exporter": "python",
   "pygments_lexer": "ipython3",
   "version": "3.7.13"
  }
 },
 "nbformat": 4,
 "nbformat_minor": 5
}
