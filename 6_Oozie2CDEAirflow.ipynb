{
 "cells": [
  {
   "cell_type": "markdown",
   "id": "cc821eca-d455-4b3e-9724-1e1165601375",
   "metadata": {},
   "source": [
    "## Migrating Oozie Workflows to Airflow CDE DAGs"
   ]
  },
  {
   "cell_type": "code",
   "execution_count": 1,
   "id": "f2694c89-d7b2-48d7-97bf-c6880fe647ff",
   "metadata": {},
   "outputs": [],
   "source": [
    "import numpy as np\n",
    "import pandas as pd\n",
    "import os\n",
    "import json\n",
    "import sys\n",
    "import re\n",
    "import requests\n",
    "from requests_toolbelt import MultipartEncoder\n",
    "import xmltodict as xd"
   ]
  },
  {
   "cell_type": "markdown",
   "id": "96bf7eef-027e-41dd-b52c-5a289b4ce59f",
   "metadata": {},
   "source": [
    "#### Converting Shell Oozie Actions to Airflow Bash Operators"
   ]
  },
  {
   "cell_type": "code",
   "execution_count": 2,
   "id": "e1fc1485-50af-4644-99e2-043083eeffe2",
   "metadata": {},
   "outputs": [],
   "source": [
    "def ooziexml_to_dict(ooziexml_path):\n",
    "\n",
    "    with open(ooziexml_path,'rb') as f:\n",
    "        d = xd.parse(f)\n",
    "        \n",
    "    return d"
   ]
  },
  {
   "cell_type": "code",
   "execution_count": null,
   "id": "d3512ccb-2226-4169-933a-16180c461d14",
   "metadata": {},
   "outputs": [],
   "source": []
  },
  {
   "cell_type": "code",
   "execution_count": 6,
   "id": "77f7d268-c607-4fe8-8c52-0409864c7b88",
   "metadata": {},
   "outputs": [
    {
     "data": {
      "text/plain": [
       "{'workflow-app': {'@xmlns': 'uri:oozie:workflow:0.5',\n",
       "  '@name': 'SparkWordCount',\n",
       "  'start': {'@to': 'spark-node'},\n",
       "  'action': {'@name': 'spark-node',\n",
       "   'spark': {'@xmlns': 'uri:oozie:spark-action:0.1',\n",
       "    'job-tracker': '${jobTracker}',\n",
       "    'name-node': '${nameNode}',\n",
       "    'prepare': {'delete': {'@path': '${nameNode}/user/${wf:user()}/${examplesRoot}/output-data'}},\n",
       "    'master': '${master}',\n",
       "    'name': 'SparkPi',\n",
       "    'class': 'org.apache.spark.examples.SparkPi',\n",
       "    'jar': 'example_spark_jobs/jobs/pi.scala',\n",
       "    'spark-opts': '--executor-memory 2G --num-executors 5',\n",
       "    'arg': 'value=10'},\n",
       "   'ok': {'@to': 'end'},\n",
       "   'error': {'@to': 'fail'}},\n",
       "  'kill': {'@name': 'fail',\n",
       "   'message': 'Workflow failed, error\\n            message[${wf:errorMessage(wf:lastErrorNode())}]'},\n",
       "  'end': {'@name': 'end'}}}"
      ]
     },
     "execution_count": 6,
     "metadata": {},
     "output_type": "execute_result"
    }
   ],
   "source": [
    "d = ooziexml_to_dict(\"oozie_workflows/Workflow.xml\")\n",
    "d"
   ]
  },
  {
   "cell_type": "code",
   "execution_count": null,
   "id": "cb1f0e15-ed1d-4b53-854e-fe43995654ab",
   "metadata": {},
   "outputs": [],
   "source": []
  },
  {
   "cell_type": "code",
   "execution_count": null,
   "id": "5abe79a6-6e83-4910-b77b-d2c673e407ef",
   "metadata": {},
   "outputs": [],
   "source": []
  },
  {
   "cell_type": "code",
   "execution_count": 36,
   "id": "351d278a-12a8-454c-87bb-80cc80ab0e87",
   "metadata": {},
   "outputs": [],
   "source": [
    "def initialize_dag():\n",
    "    with open('airflow_dags/oozie2airflow.py', 'w') as f:\n",
    "        f.write('# The new Airflow DAG')"
   ]
  },
  {
   "cell_type": "code",
   "execution_count": 37,
   "id": "de92bf68-1650-4ad1-83bd-1f752ffddebb",
   "metadata": {},
   "outputs": [],
   "source": [
    "def dag_imports():\n",
    "    \n",
    "    imports = \"\"\"\\nfrom dateutil import parser\n",
    "    \\nfrom datetime import datetime, timedelta\n",
    "    \\nfrom datetime import timezone\n",
    "    \\nfrom airflow import DAG\n",
    "    \\nfrom cloudera.cdp.airflow.operators.cde_operator import CDEJobRunOperator\\n\\n\"\"\"\n",
    "    \n",
    "    with open('airflow_dags/oozie2airflow.py', 'a') as f:\n",
    "        f.write(imports)"
   ]
  },
  {
   "cell_type": "code",
   "execution_count": 55,
   "id": "e69beaf4-4188-46f7-8809-0b2be417f07e",
   "metadata": {},
   "outputs": [],
   "source": [
    "def dag_declaration():\n",
    "    \n",
    "    declarations = \"\"\"default_args = {\n",
    "    'owner': 'your_username_here',\n",
    "    'retry_delay': timedelta(seconds=5),\n",
    "    'depends_on_past': False,\n",
    "    'start_date': parser.isoparse('2021-05-25T07:33:37.393Z').replace(tzinfo=timezone.utc)\n",
    "    }\n",
    "\n",
    "dag = DAG(\n",
    "    'airflow-pipeline-demo',\n",
    "    default_args=default_args,\n",
    "    schedule_interval='@daily',\n",
    "    catchup=False,\n",
    "    is_paused_upon_creation=False\n",
    "    )\\n\\n\"\"\"\n",
    "    \n",
    "    with open('airflow_dags/oozie2airflow.py', 'a') as f:\n",
    "        f.write(declarations)"
   ]
  },
  {
   "cell_type": "code",
   "execution_count": 61,
   "id": "142b774f-c655-47f6-b6a0-17a744b6d766",
   "metadata": {},
   "outputs": [],
   "source": [
    "def append_spark_operator(step_name, task_id, spark_cde_job_name):\n",
    "    \n",
    "    spark_operator = \"\"\"{} = CDEJobRunOperator(\n",
    "    task_id={},\n",
    "    dag=dag,\n",
    "    job_name='{}'\n",
    "    )\\n\\n\"\"\".format(step_name, task_id, spark_cde_job_name)\n",
    "    \n",
    "    with open('airflow_dags/oozie2airflow.py', 'a') as f:\n",
    "        f.write(spark_operator)\n",
    "    "
   ]
  },
  {
   "cell_type": "code",
   "execution_count": 66,
   "id": "d786d564-d369-464c-af11-326aee246691",
   "metadata": {},
   "outputs": [],
   "source": [
    "def spark_oozie_action_name(d):\n",
    "     \n",
    "    if \"spark\" in d[\"workflow-app\"][\"action\"].keys():\n",
    "\n",
    "        name = d[\"workflow-app\"][\"action\"][\"spark\"][\"name\"]\n",
    "\n",
    "    else:\n",
    "        print(\"Error. This is not a Spark Oozie Action\")\n",
    "        \n",
    "    print(\"Extracted Job Name: {}\".format(name))\n",
    "    return name"
   ]
  },
  {
   "cell_type": "code",
   "execution_count": null,
   "id": "67b59f06-18b7-44a4-b778-bd45cea6bbfd",
   "metadata": {},
   "outputs": [],
   "source": []
  },
  {
   "cell_type": "code",
   "execution_count": null,
   "id": "b6a402ce-140e-40ae-9c9c-b91ceefa1e19",
   "metadata": {},
   "outputs": [],
   "source": []
  },
  {
   "cell_type": "code",
   "execution_count": 62,
   "id": "daa7201a-372d-4f9a-a917-99e4365f8454",
   "metadata": {},
   "outputs": [],
   "source": [
    "initialize_dag()"
   ]
  },
  {
   "cell_type": "code",
   "execution_count": 63,
   "id": "e21750fe-4d9c-474c-9d3e-c7bf18465102",
   "metadata": {},
   "outputs": [],
   "source": [
    "dag_imports()"
   ]
  },
  {
   "cell_type": "code",
   "execution_count": 64,
   "id": "224dbc7c-58d0-451d-a3d7-6891c8a021d7",
   "metadata": {},
   "outputs": [],
   "source": [
    "dag_declaration()"
   ]
  },
  {
   "cell_type": "code",
   "execution_count": 67,
   "id": "91073b53-a740-430e-8a21-5024ed281f24",
   "metadata": {},
   "outputs": [
    {
     "name": "stdout",
     "output_type": "stream",
     "text": [
      "Extracted Job Name: SparkPi\n"
     ]
    }
   ],
   "source": [
    "job_name = spark_oozie_action_name(d)"
   ]
  },
  {
   "cell_type": "code",
   "execution_count": 68,
   "id": "b1ac4660-279e-4359-95e4-b13e9692e91a",
   "metadata": {},
   "outputs": [],
   "source": [
    "append_spark_operator(\"step1\", \"task_id\", job_name)"
   ]
  },
  {
   "cell_type": "code",
   "execution_count": null,
   "id": "127621b1-89ff-4a0f-aaf5-bd1a03199b6a",
   "metadata": {},
   "outputs": [],
   "source": []
  },
  {
   "cell_type": "code",
   "execution_count": null,
   "id": "3bcfde1c-5278-4c85-997a-0a75df672971",
   "metadata": {},
   "outputs": [],
   "source": []
  }
 ],
 "metadata": {
  "kernelspec": {
   "display_name": "Python 3 (ipykernel)",
   "language": "python",
   "name": "python3"
  },
  "language_info": {
   "codemirror_mode": {
    "name": "ipython",
    "version": 3
   },
   "file_extension": ".py",
   "mimetype": "text/x-python",
   "name": "python",
   "nbconvert_exporter": "python",
   "pygments_lexer": "ipython3",
   "version": "3.7.13"
  }
 },
 "nbformat": 4,
 "nbformat_minor": 5
}
