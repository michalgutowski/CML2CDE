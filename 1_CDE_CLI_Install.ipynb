{
 "cells": [
  {
   "cell_type": "markdown",
   "id": "7f013db8-ff50-46b2-8029-202c3137e47c",
   "metadata": {},
   "source": [
    "## Installing the CDE CLI"
   ]
  },
  {
   "cell_type": "markdown",
   "id": "24da7d4c-a50f-4d6e-bd03-2815355a9897",
   "metadata": {},
   "source": [
    "#### The CDE CLI Normally requires a two step process for installation:\n",
    " 1. Downloading the CLI from the CDE Virtual Cluster Service Details Page [(documentation)](https://docs.cloudera.com/data-engineering/cloud/cli-access/topics/cde-download-cli.html)\n",
    " 2. Configuring the CLI Client [(documentation)](https://docs.cloudera.com/data-engineering/cloud/cli-access/topics/cde-configure-cli.html)\n",
    "    \n",
    "##### For the purposes of this demo we will complete these steps in this CML project. The CDE CLI has already been downloaded in the /home/cdsw folder for you.\n",
    "\n",
    "##### However, note that you can just as easily install it on your local machine."
   ]
  },
  {
   "cell_type": "code",
   "execution_count": 7,
   "id": "6f1c341d-ac4c-4f95-aa8d-ffd9e871050d",
   "metadata": {},
   "outputs": [],
   "source": [
    "import os\n",
    "import yaml"
   ]
  },
  {
   "cell_type": "markdown",
   "id": "bd9e6d4f-877d-4118-a26c-f33f8f927f2d",
   "metadata": {},
   "source": [
    "#### Before proceeding with the following cells, please ensure you have set CML Environment Variables as shown in the Project Readme"
   ]
  },
  {
   "cell_type": "markdown",
   "id": "8dcd24f6-7c3d-48c4-a1c9-2260b2525a40",
   "metadata": {},
   "source": [
    "### Step 1. Create a folder for the CLI"
   ]
  },
  {
   "cell_type": "code",
   "execution_count": 9,
   "id": "5d09abef-5f14-4b38-af22-1039ea1f6c3d",
   "metadata": {},
   "outputs": [],
   "source": [
    "!mkdir .cde"
   ]
  },
  {
   "cell_type": "markdown",
   "id": "2931273b-5d76-48a5-8ff2-ea4c2ea73bfe",
   "metadata": {},
   "source": [
    "### Step 2. Create a Yaml file with your credentials"
   ]
  },
  {
   "cell_type": "code",
   "execution_count": 10,
   "id": "5dc25ede-39de-4576-98ab-af7aa0d07715",
   "metadata": {},
   "outputs": [],
   "source": [
    "# Using pyyaml lib\n",
    "dict_yaml = {\"user\" : os.environ[\"WORKLOAD_USER\"], \n",
    "             \"vcluster-endpoint\": os.environ[\"JOBS_API_URL\"]}\n",
    "\n",
    "with open(r'.cde/config.yaml', 'w') as file:\n",
    "    documents = yaml.dump(dict_yaml, file)"
   ]
  },
  {
   "cell_type": "markdown",
   "id": "c9fd5446-36ce-4257-be43-0aec6ff8fb6b",
   "metadata": {},
   "source": [
    "### Step 3. Create a .local/bin directory and load the CDE CLI in it"
   ]
  },
  {
   "cell_type": "code",
   "execution_count": 11,
   "id": "6d99d0aa-f196-46d9-9ffa-0c0323e15a5f",
   "metadata": {},
   "outputs": [],
   "source": [
    "!mkdir /home/cdsw/.local/bin\n",
    "!chmod 777 /home/cdsw/.local/bin\n",
    "!cp cde /home/cdsw/.local/bin\n",
    "!chmod 777 /home/cdsw/.local/bin/cde"
   ]
  },
  {
   "cell_type": "code",
   "execution_count": null,
   "id": "f73d1acc-017b-4e0e-b41b-2749565bcb6b",
   "metadata": {},
   "outputs": [],
   "source": []
  }
 ],
 "metadata": {
  "kernelspec": {
   "display_name": "Python 3 (ipykernel)",
   "language": "python",
   "name": "python3"
  },
  "language_info": {
   "codemirror_mode": {
    "name": "ipython",
    "version": 3
   },
   "file_extension": ".py",
   "mimetype": "text/x-python",
   "name": "python",
   "nbconvert_exporter": "python",
   "pygments_lexer": "ipython3",
   "version": "3.7.13"
  }
 },
 "nbformat": 4,
 "nbformat_minor": 5
}
