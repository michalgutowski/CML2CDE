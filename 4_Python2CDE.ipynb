{
 "cells": [
  {
   "cell_type": "markdown",
   "id": "386f9457-3da0-4e26-acc1-0806da1c0ddc",
   "metadata": {},
   "source": [
    "## More CDE with Python"
   ]
  },
  {
   "cell_type": "code",
   "execution_count": 2,
   "id": "d4875f59-41b3-4a6d-b555-dc822ecd0762",
   "metadata": {},
   "outputs": [],
   "source": [
    "import os\n",
    "import json\n",
    "import sys\n",
    "import re\n",
    "import requests\n",
    "from requests_toolbelt import MultipartEncoder"
   ]
  },
  {
   "cell_type": "markdown",
   "id": "bcc23ce5-9e15-44de-a711-1ef7f4bff235",
   "metadata": {},
   "source": [
    "#### You can use existing environment variables or set them at session level. Notice os.environ[\"WORKLOAD_USER\"] is already set for you as a CDP User and can just be referenced directly. "
   ]
  },
  {
   "cell_type": "code",
   "execution_count": 4,
   "id": "f66c9a4c-62f6-4299-ad29-a3debb43defd",
   "metadata": {},
   "outputs": [],
   "source": [
    "os.environ[\"WORKLOAD_USER\"] = \"pauldefusco\"\n",
    "os.environ[\"JOBS_API_URL\"] = \"https://tk5p4pn9.cde-6fr6l74r.go01-dem.ylcu-atmi.cloudera.site/dex/api/v1\""
   ]
  },
  {
   "cell_type": "markdown",
   "id": "955d845a-dd7d-4005-ae5c-2d7d34f844d8",
   "metadata": {},
   "source": [
    "#### Python Wrappers to CDE API "
   ]
  },
  {
   "cell_type": "code",
   "execution_count": 6,
   "id": "5831bcec-e474-440f-ae0d-1d16521a2ebb",
   "metadata": {},
   "outputs": [],
   "source": [
    "# Set user token to interact with CDE Service remotely\n",
    "def set_cde_token():\n",
    "    rep = os.environ[\"JOBS_API_URL\"].split(\"/\")[2].split(\".\")[0]\n",
    "    os.environ[\"GET_TOKEN_URL\"] = os.environ[\"JOBS_API_URL\"].replace(rep, \"service\").replace(\"dex/api/v1\", \"gateway/authtkn/knoxtoken/api/v1/token\")\n",
    "    token_json = !curl -u $WORKLOAD_USER:$WORKLOAD_PASSWORD $GET_TOKEN_URL\n",
    "    os.environ[\"ACCESS_TOKEN\"] = json.loads(token_json[5])[\"access_token\"]\n",
    "    \n",
    "    return json.loads(token_json[5])[\"access_token\"]"
   ]
  },
  {
   "cell_type": "code",
   "execution_count": 59,
   "id": "7ccebabf-835d-4653-8b51-810039a9eabf",
   "metadata": {},
   "outputs": [],
   "source": [
    "# Create CDE Resource to upload Spark CDE Job files\n",
    "def create_cde_resource(tok, resource_name):\n",
    "\n",
    "    url = os.environ[\"JOBS_API_URL\"] + \"/resources\"\n",
    "    myobj = {\"name\": str(resource_name)}\n",
    "    data_to_send = json.dumps(myobj).encode(\"utf-8\")\n",
    "\n",
    "    headers = {\n",
    "        'Authorization': f\"Bearer {tok}\",\n",
    "        'accept': 'application/json',\n",
    "        'Content-Type': 'application/json',\n",
    "    }\n",
    "\n",
    "    x = requests.post(url, data=data_to_send, headers=headers)\n",
    "    print(x.status_code)\n",
    "    print(x.text)"
   ]
  },
  {
   "cell_type": "code",
   "execution_count": 13,
   "id": "d656c333-889a-40ee-aa37-ad970d7a41f4",
   "metadata": {},
   "outputs": [],
   "source": [
    "#Upload Spark CDE Job file to CDE Resource\n",
    "def put_files(resource_name, jobs_path, tok):\n",
    "    \n",
    "    for job in [jobs_path+file for file in os.listdir(jobs_path)]:\n",
    "        \n",
    "        print(\"Working on Job: {}\".format(job.split(\"/\")[-1].split(\".\")[0]))\n",
    "        \n",
    "        m = MultipartEncoder(\n",
    "            fields={\n",
    "                    'file': ('filename', open(job, 'rb'), 'text/plain')}\n",
    "            )\n",
    "\n",
    "        PUT = '{jobs_api_url}/resources/{resource_name}/{file_name}'.format(jobs_api_url=os.environ[\"JOBS_API_URL\"], \n",
    "                                                                                          resource_name=resource_name, \n",
    "                                                                                          file_name=job.split(\"/\")[2])\n",
    "\n",
    "        x = requests.put(PUT, data=m, headers={'Authorization': f\"Bearer {tok}\",'Content-Type': m.content_type})\n",
    "        \n",
    "        print(\"Response Status Code {}\".format(x.status_code))\n",
    "        print(x.text)"
   ]
  },
  {
   "cell_type": "code",
   "execution_count": 18,
   "id": "a87cf125-e29c-4976-814e-b167380c6a99",
   "metadata": {},
   "outputs": [],
   "source": [
    "def create_jobs_from_resource(resource_name, jobs_path, tok):\n",
    "    \n",
    "    for job in [jobs_path+file for file in os.listdir(jobs_path)]:\n",
    "        \n",
    "        print(\"Working on Job: {}\".format(job.split(\"/\")[-1].split(\".\")[0]))\n",
    "        \n",
    "        headers = {\n",
    "        'Authorization': f\"Bearer {tok}\",\n",
    "        'accept': 'application/json',\n",
    "        'Content-Type': 'application/json',\n",
    "        }\n",
    "\n",
    "        data = '{ \"name\": \"job_name\", \"type\": \"spark\", \"retentionPolicy\": \"keep_indefinitely\", \"mounts\": [ { \"dirPrefix\": \"/\", \"resourceName\": \"resource_name\" } ], \"spark\": { \"file\": \"file_name\", \"conf\": { \"spark.pyspark.python\": \"python3\" } }, \"schedule\": { \"enabled\": true, \"user\": \"pdefusco\", \"cronExpression\": \"30 */1 * * *\", \"start\": \"2022-08-18\", \"end\": \"2022-08-18\" } }'\n",
    "\n",
    "        data = re.sub(\"job_name\", job.split(\"/\")[-1].split(\".\")[0], data, count=0, flags=0)\n",
    "        data = re.sub(\"resource_name\", resource_name, data, count=0, flags=0)\n",
    "        data = re.sub(\"file_name\", job.split(\"/\")[-1], data, count=0, flags=0)\n",
    "\n",
    "        PUT = '{}/jobs'.format(os.environ[\"JOBS_API_URL\"])\n",
    "    \n",
    "        x = requests.post(PUT, headers=headers, data=data)\n",
    "        \n",
    "        print(\"Response Status Code {}\".format(x.status_code))\n",
    "        print(x.text)\n",
    "        print(\"\\n\")\n",
    "        "
   ]
  },
  {
   "cell_type": "markdown",
   "id": "03c82f7d-e5cc-4342-b7e4-54a53cdb364f",
   "metadata": {},
   "source": [
    "#### Execute the workflow in this order. A 201 means the request was successful. If you don't get a 201 you will see the response message."
   ]
  },
  {
   "cell_type": "code",
   "execution_count": 7,
   "id": "123a02e3-1d37-4cac-8c10-01ea98d1ce57",
   "metadata": {},
   "outputs": [],
   "source": [
    "tok = set_cde_token()"
   ]
  },
  {
   "cell_type": "code",
   "execution_count": 60,
   "id": "60bd86a5-62d1-4a84-91bc-33b1e096ee98",
   "metadata": {},
   "outputs": [
    {
     "name": "stdout",
     "output_type": "stream",
     "text": [
      "409\n",
      "{\"status\":\"error\",\"message\":\"resource with name already exists\"}\n"
     ]
    }
   ],
   "source": [
    "#Create CDE Resource for all Spark CDE Jobs\n",
    "create_cde_resource(tok, \"cde_migration_resource\")"
   ]
  },
  {
   "cell_type": "code",
   "execution_count": 15,
   "id": "f5749ff0-1da0-4478-9dfd-05a7f42dc8c1",
   "metadata": {},
   "outputs": [
    {
     "name": "stdout",
     "output_type": "stream",
     "text": [
      "Working on Job: movieALS\n",
      "Response Status Code 201\n",
      "\n",
      "Working on Job: auction-analysis\n",
      "Response Status Code 201\n",
      "\n",
      "Working on Job: kmeans\n",
      "Response Status Code 201\n",
      "\n",
      "Working on Job: pi\n",
      "Response Status Code 201\n",
      "\n",
      "Working on Job: wordcount\n",
      "Response Status Code 201\n",
      "\n"
     ]
    }
   ],
   "source": [
    "put_files(\"python2cde\", \"example_spark_jobs/jobs/\", tok)"
   ]
  },
  {
   "cell_type": "code",
   "execution_count": 19,
   "id": "3921681e-954e-4cda-87ad-868f7e91afff",
   "metadata": {},
   "outputs": [
    {
     "name": "stdout",
     "output_type": "stream",
     "text": [
      "Working on Job: movieALS\n",
      "Response Status Code 500\n",
      "{\"status\":\"error\",\"message\":\"job with name already exists\"}\n",
      "\n",
      "\n",
      "Working on Job: auction-analysis\n",
      "Response Status Code 500\n",
      "{\"status\":\"error\",\"message\":\"job with name already exists\"}\n",
      "\n",
      "\n",
      "Working on Job: kmeans\n",
      "Response Status Code 500\n",
      "{\"status\":\"error\",\"message\":\"job with name already exists\"}\n",
      "\n",
      "\n",
      "Working on Job: pi\n",
      "Response Status Code 500\n",
      "{\"status\":\"error\",\"message\":\"job with name already exists\"}\n",
      "\n",
      "\n",
      "Working on Job: wordcount\n",
      "Response Status Code 500\n",
      "{\"status\":\"error\",\"message\":\"job with name already exists\"}\n",
      "\n",
      "\n"
     ]
    }
   ],
   "source": [
    "create_jobs_from_resource(\"python2cde\", \"example_spark_jobs/jobs/\", tok)"
   ]
  },
  {
   "cell_type": "code",
   "execution_count": null,
   "id": "d9960337-356c-4569-933d-e8025bf367b1",
   "metadata": {},
   "outputs": [],
   "source": []
  }
 ],
 "metadata": {
  "kernelspec": {
   "display_name": "Python 3 (ipykernel)",
   "language": "python",
   "name": "python3"
  },
  "language_info": {
   "codemirror_mode": {
    "name": "ipython",
    "version": 3
   },
   "file_extension": ".py",
   "mimetype": "text/x-python",
   "name": "python",
   "nbconvert_exporter": "python",
   "pygments_lexer": "ipython3",
   "version": "3.7.13"
  }
 },
 "nbformat": 4,
 "nbformat_minor": 5
}
