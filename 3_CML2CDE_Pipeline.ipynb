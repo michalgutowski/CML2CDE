{
 "cells": [
  {
   "cell_type": "markdown",
   "id": "bdb37ee4-f23d-41f1-9c93-ea5ca7783e46",
   "metadata": {},
   "source": [
    "## CML 2 CDE Pipeline"
   ]
  },
  {
   "cell_type": "markdown",
   "id": "eabdfa4f-25f1-43d5-a1a6-f9104b97cdea",
   "metadata": {},
   "source": [
    "#### You can use CML API V2 and other Python Libraries to build CML2CDE Pipelines for the following purposes:\n",
    "* Optimizing Spark Jobs \n",
    "* Versioning Spark Jobs\n",
    "* Decreasing per Spark Job Costs by executing Jobs in a MultiCloud Pattern"
   ]
  },
  {
   "cell_type": "markdown",
   "id": "0862d23d-023c-4129-ab97-448b5a25373b",
   "metadata": {},
   "source": [
    "![alt text](images/cml2cde_1.png)"
   ]
  },
  {
   "cell_type": "code",
   "execution_count": 3,
   "id": "d3061764-192e-4e8b-adfe-337148640fcd",
   "metadata": {},
   "outputs": [],
   "source": [
    "import os\n",
    "import requests"
   ]
  },
  {
   "cell_type": "markdown",
   "id": "83a41a7e-85e1-4ba1-a482-e0e09dd14dc3",
   "metadata": {},
   "source": [
    "#### CML API v2 can be imported as shown below. For a full tutorial please visit: https://github.com/pdefusco/CML_AMP_APIv2/blob/master/CMLAPI.ipynb"
   ]
  },
  {
   "cell_type": "code",
   "execution_count": 4,
   "id": "cdc3cee4-7870-4f0f-a870-ffe36dffd46c",
   "metadata": {},
   "outputs": [],
   "source": [
    "try:\n",
    "    import cmlapi\n",
    "except ModuleNotFoundError:\n",
    "    import os\n",
    "    cluster = os.getenv(\"CDSW_API_URL\")[:-1]+\"2\"\n",
    "    !pip3 install {cluster}/python.tar.gz\n",
    "    import cmlapi\n",
    "\n",
    "from cmlapi.utils import Cursor\n",
    "import string\n",
    "import random\n",
    "import json\n",
    "\n",
    "try:\n",
    "    client = cmlapi.default_client()\n",
    "except ValueError:\n",
    "    print(\"Could not create a client. If this code is not being run in a CML session, please include the keyword arguments \\\"url\\\" and \\\"cml_api_key\\\".\")"
   ]
  },
  {
   "cell_type": "markdown",
   "id": "620576a9-5fcc-4983-9501-4a27eb5a925e",
   "metadata": {},
   "source": [
    "#### Obtain CML Project ID"
   ]
  },
  {
   "cell_type": "code",
   "execution_count": 5,
   "id": "512b4533-e845-4fd5-953d-7c91c36a66c5",
   "metadata": {},
   "outputs": [],
   "source": [
    "### Set Project ID ###\n",
    "    \n",
    "project_id = os.environ[\"CDSW_PROJECT_ID\"]"
   ]
  },
  {
   "cell_type": "markdown",
   "id": "054f68d4-c8c5-4332-a849-322915a11bb0",
   "metadata": {},
   "source": [
    "#### Create a CML Job for Script 3 A"
   ]
  },
  {
   "cell_type": "code",
   "execution_count": 6,
   "id": "9a8d574d-a667-4ea0-8c0e-38f94cffb723",
   "metadata": {},
   "outputs": [],
   "source": [
    "# Create a job. We will create dependent/children jobs of this job, so we call this one a \"grandparent job\". The parameter \"runtime_identifier\" is needed if this is running in a runtimes project.\n",
    "grandparent_job_body = cmlapi.CreateJobRequest(\n",
    "    project_id = project_id,\n",
    "    name = \"create_cde_job\",\n",
    "    script = \"cml2cde_pipeline_code/3_A_create_cde_job.py\",\n",
    "    cpu = 1.0,\n",
    "    memory = 2.0,\n",
    "    runtime_identifier = \"docker.repository.cloudera.com/cdsw/ml-runtime-workbench-python3.7-standard:2021.09.1-b5\", \n",
    "    runtime_addon_identifiers = [\"spark311-13-hf1\"]\n",
    ")"
   ]
  },
  {
   "cell_type": "code",
   "execution_count": 7,
   "id": "ffeeba94-78fe-4c5d-b759-d3b000c292b7",
   "metadata": {},
   "outputs": [],
   "source": [
    "# Create this job within the project specified by the project_id parameter.\n",
    "grandparent_job = client.create_job(grandparent_job_body, project_id)"
   ]
  },
  {
   "cell_type": "markdown",
   "id": "083971bf-dad3-43a8-98b6-d14605d39694",
   "metadata": {},
   "source": [
    "#### Create a CML Job for Script 3 B"
   ]
  },
  {
   "cell_type": "code",
   "execution_count": 8,
   "id": "d3bd065a-fc25-4d9a-a067-4b5a04a9e4bb",
   "metadata": {},
   "outputs": [],
   "source": [
    "# Create a job. We will create dependent/children jobs of this job, so we call this one a \"grandparent job\". The parameter \"runtime_identifier\" is needed if this is running in a runtimes project.\n",
    "parent_job_body = cmlapi.CreateJobRequest(\n",
    "    project_id = project_id,\n",
    "    name = \"run_cde_job\",\n",
    "    script = \"cml2cde_pipeline_code/3_B_run_cde_job.py\",\n",
    "    cpu = 1.0,\n",
    "    memory = 2.0,\n",
    "    runtime_identifier = \"docker.repository.cloudera.com/cdsw/ml-runtime-workbench-python3.7-standard:2021.09.1-b5\", \n",
    "    runtime_addon_identifiers = [\"spark311-13-hf1\"]\n",
    ")"
   ]
  },
  {
   "cell_type": "code",
   "execution_count": 9,
   "id": "df099315-4ca2-4e6c-8910-a30b10f412dd",
   "metadata": {},
   "outputs": [],
   "source": [
    "# Create this job within the project specified by the project_id parameter.\n",
    "parent_job = client.create_job(parent_job_body, project_id)"
   ]
  },
  {
   "cell_type": "markdown",
   "id": "d6a5207f-c719-4422-9bdd-a1b4574f5e44",
   "metadata": {},
   "source": [
    "#### Create a CML Job for Script 3 C"
   ]
  },
  {
   "cell_type": "code",
   "execution_count": 10,
   "id": "cc210787-8a0d-4550-992d-f71300cf3928",
   "metadata": {},
   "outputs": [],
   "source": [
    "# Create a job. We will create dependent/children jobs of this job, so we call this one a \"grandparent job\". The parameter \"runtime_identifier\" is needed if this is running in a runtimes project.\n",
    "#job_body = cmlapi.CreateJobRequest(\n",
    "#    project_id = project_id,\n",
    "#    name = \"github_backup\",\n",
    "#    script = \"cml2cde_pipeline_code/3_C_github_backup.py\",\n",
    "#    cpu = 2.0,\n",
    "#    memory = 4.0,\n",
    "#    runtime_identifier = \"docker.repository.cloudera.com/cdsw/ml-runtime-workbench-python3.7-standard:2021.09.1-b5\", \n",
    "#    runtime_addon_identifiers = [\"spark311-13-hf1\"]\n",
    "#)"
   ]
  },
  {
   "cell_type": "code",
   "execution_count": 11,
   "id": "42e9650c-fa66-4d49-b298-140366eb7494",
   "metadata": {},
   "outputs": [],
   "source": [
    "# Create this job within the project specified by the project_id parameter.\n",
    "#job = client.create_job(job_body, project_id)"
   ]
  },
  {
   "cell_type": "markdown",
   "id": "f2d570f7-cb00-432c-957d-6d178f886caf",
   "metadata": {},
   "source": [
    "#### Navigate back to the CML Project Home Page and notice there are two new CML Jobs."
   ]
  },
  {
   "cell_type": "markdown",
   "id": "e1f798ac-5c56-46b0-8c05-c0b9769e5b11",
   "metadata": {},
   "source": [
    "#### These CML Jobs have not yet run once. Come back to the notebook once you've validated this."
   ]
  },
  {
   "cell_type": "markdown",
   "id": "fbeff899-4640-4ad9-9872-fe872de3ed00",
   "metadata": {},
   "source": [
    "![alt text](images/cml2cde_13.png)"
   ]
  },
  {
   "cell_type": "markdown",
   "id": "9b61e7aa-a8d5-412e-8d7b-4be53f0403ac",
   "metadata": {},
   "source": [
    "#### Run the CML Job Pipeline"
   ]
  },
  {
   "cell_type": "code",
   "execution_count": 12,
   "id": "9dd9ea1f-0a42-4cc4-ac1a-35a58d82534d",
   "metadata": {},
   "outputs": [],
   "source": [
    "# If the job has dependent jobs, the dependent jobs will run after the job succeeds.\n",
    "# In this case, the grandparent job will run first, then the parent job, and then the child job, provided each job run succeeds.\n",
    "jobrun_body = cmlapi.CreateJobRunRequest(project_id, \n",
    "                                         grandparent_job.id, \n",
    "                                         environment={\"JOBS_API_URL\":os.environ[\"JOBS_API_URL\"], \n",
    "                                                    \"CDE_Resource_Name\":\"cml2cde_cicd_resource\", \n",
    "                                                    \"CDE_Job_Name\":\"cml2cde_cicd_job\", \n",
    "                                                    \"WORKLOAD_USER\":os.environ[\"WORKLOAD_USER\"],\n",
    "                                                    \"WORKLOAD_PASSWORD\":os.environ[\"WORKLOAD_PASSWORD\"]}\n",
    "                                        )\n",
    "job_run = client.create_job_run(jobrun_body, project_id, grandparent_job.id)\n",
    "run_id = job_run.id"
   ]
  },
  {
   "cell_type": "markdown",
   "id": "7a8af34a-fe4b-4355-96c0-a42e620b5f2a",
   "metadata": {},
   "source": [
    "This time we have triggered CML Job execution. Navigate back to the CML Project Home and validate this."
   ]
  },
  {
   "cell_type": "markdown",
   "id": "731bcff3-5c08-48b8-8cd4-6d0ba1fce635",
   "metadata": {},
   "source": [
    "![alt text](images/cml2cde_14.png)"
   ]
  },
  {
   "cell_type": "markdown",
   "id": "80931e6a-bc36-4956-b786-d32538ccace0",
   "metadata": {},
   "source": [
    "#### Tip: if you set the CML Job Environment Variables when triggering a CML Job they will not be saved in the CML Job Definition and thus be invisible when the CML Job Definition is opened."
   ]
  },
  {
   "cell_type": "code",
   "execution_count": 13,
   "id": "023a67f3-ae7c-4ed2-98ff-c6fddb3db22a",
   "metadata": {},
   "outputs": [],
   "source": [
    "# If the job has dependent jobs, the dependent jobs will run after the job succeeds.\n",
    "# In this case, the grandparent job will run first, then the parent job, and then the child job, provided each job run succeeds.\n",
    "jobrun_body = cmlapi.CreateJobRunRequest(project_id, \n",
    "                                         parent_job.id, \n",
    "                                         environment={\"JOBS_API_URL\":os.environ[\"JOBS_API_URL\"], \n",
    "                                                    \"CDE_Resource_Name\":\"cml2cde_cicd_resource\", \n",
    "                                                    \"CDE_Job_Name\":\"cml2cde_cicd_job\", \n",
    "                                                    \"WORKLOAD_USER\":os.environ[\"WORKLOAD_USER\"],\n",
    "                                                    \"WORKLOAD_PASSWORD\":os.environ[\"WORKLOAD_PASSWORD\"]}\n",
    "                                        )\n",
    "job_run = client.create_job_run(jobrun_body, project_id, parent_job.id)\n",
    "run_id = job_run.id"
   ]
  },
  {
   "cell_type": "markdown",
   "id": "357977b5-f88c-4535-b88b-cff7a9feb9df",
   "metadata": {},
   "source": [
    "When you go back to the CML Project Home observe that this second job has also launched."
   ]
  },
  {
   "cell_type": "markdown",
   "id": "f220ef44-a3c3-43a8-952f-09711d2bc63c",
   "metadata": {},
   "source": [
    "### Looking into the CDE Jobs\n",
    "   * You created two CML Jobs with APIv2. Each CML Job contained calls to CDE via its API.\n",
    "   * Open scripts 3_A and 3_B located in the cml2cde_pipeline_code folder and validate this.\n",
    "   * Notice you didn't just create a single job. You created a system to transfer PySpark scripts from CML into CDE Resources before running the corresponding CDE Jobs."
   ]
  },
  {
   "cell_type": "markdown",
   "id": "620249eb-1c8b-485c-9218-b1fe437926ef",
   "metadata": {},
   "source": [
    "#### Navigate to the CDE Virtual Cluster Jobs Page and validate CDE Job execution."
   ]
  },
  {
   "cell_type": "markdown",
   "id": "95ecf012-807e-4bf6-895e-a86ec12fa7b2",
   "metadata": {},
   "source": [
    "![alt text](images/cml2cde_15.png)"
   ]
  },
  {
   "cell_type": "markdown",
   "id": "76b268a8-a2fe-4595-aa5c-65acd7dd9608",
   "metadata": {},
   "source": [
    "![alt text](images/cml2cde_16.png)"
   ]
  },
  {
   "cell_type": "markdown",
   "id": "82a528c9-981b-4f85-9e77-a7d55e6b2198",
   "metadata": {},
   "source": [
    "![alt text](images/cml2cde_17.png)"
   ]
  },
  {
   "cell_type": "code",
   "execution_count": null,
   "id": "2d2e8681-f187-44f3-8db4-bb857354ed75",
   "metadata": {},
   "outputs": [],
   "source": []
  }
 ],
 "metadata": {
  "kernelspec": {
   "display_name": "Python 3 (ipykernel)",
   "language": "python",
   "name": "python3"
  },
  "language_info": {
   "codemirror_mode": {
    "name": "ipython",
    "version": 3
   },
   "file_extension": ".py",
   "mimetype": "text/x-python",
   "name": "python",
   "nbconvert_exporter": "python",
   "pygments_lexer": "ipython3",
   "version": "3.7.13"
  }
 },
 "nbformat": 4,
 "nbformat_minor": 5
}
