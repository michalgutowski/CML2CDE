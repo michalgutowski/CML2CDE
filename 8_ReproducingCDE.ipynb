{
 "cells": [
  {
   "cell_type": "markdown",
   "id": "3b1e028f-c9d1-400d-948b-cf16e327da82",
   "metadata": {},
   "source": [
    "## Troubleshooting CDE"
   ]
  },
  {
   "cell_type": "code",
   "execution_count": 1,
   "id": "4954679d-415d-4d13-83e4-c44074478e2a",
   "metadata": {},
   "outputs": [],
   "source": [
    "import os\n",
    "import json\n",
    "import requests\n",
    "import oozie2cde.cderesource as cde"
   ]
  },
  {
   "cell_type": "code",
   "execution_count": 2,
   "id": "04dbd51a-b07c-42fd-bec9-7b2983ebdfaf",
   "metadata": {},
   "outputs": [],
   "source": [
    "JOBS_API_URL = \"https://z4xgdztf.cde-6fr6l74r.go01-dem.ylcu-atmi.cloudera.site/dex/api/v1\"\n",
    "WORKLOAD_USER = \"pauldefusco\"\n",
    "cde_resource_name_airflow = \"airflow-file-resource\"\n",
    "cde_resource_name_spark = \"spark-jobs-file-resource\""
   ]
  },
  {
   "cell_type": "code",
   "execution_count": 3,
   "id": "48a0e55d-68b5-478e-b967-d6a17cbdb0b7",
   "metadata": {},
   "outputs": [],
   "source": [
    "cde_airflow = cde.CdeResource(JOBS_API_URL, WORKLOAD_USER, cde_resource_name_airflow)"
   ]
  },
  {
   "cell_type": "code",
   "execution_count": 4,
   "id": "7af593ce-1b67-42c4-a6cb-b9e7d88d61d4",
   "metadata": {},
   "outputs": [],
   "source": [
    "token = cde_airflow.set_cde_token(os.environ[\"WORKLOAD_PASSWORD\"])"
   ]
  },
  {
   "cell_type": "code",
   "execution_count": 5,
   "id": "c9b76ab8-2be0-4423-9d53-10c4ee434979",
   "metadata": {},
   "outputs": [
    {
     "name": "stdout",
     "output_type": "stream",
     "text": [
      "409\n",
      "{\"status\":\"error\",\"message\":\"resource with name already exists\"}\n"
     ]
    }
   ],
   "source": [
    "cde_airflow.create_cde_resource(token, cde_resource_name_airflow)"
   ]
  },
  {
   "cell_type": "code",
   "execution_count": 6,
   "id": "7124df8c-0001-4250-8285-b85a6771fdb6",
   "metadata": {},
   "outputs": [],
   "source": [
    "cde_spark = cde.CdeResource(JOBS_API_URL, WORKLOAD_USER, cde_resource_name_spark)"
   ]
  },
  {
   "cell_type": "code",
   "execution_count": 7,
   "id": "da20a537-dfc5-437c-9a03-00ba005654f1",
   "metadata": {},
   "outputs": [
    {
     "name": "stdout",
     "output_type": "stream",
     "text": [
      "409\n",
      "{\"status\":\"error\",\"message\":\"resource with name already exists\"}\n"
     ]
    }
   ],
   "source": [
    "cde_spark.create_cde_resource(token, cde_resource_name_spark)"
   ]
  },
  {
   "cell_type": "code",
   "execution_count": 8,
   "id": "486e7704-f654-4d32-83ae-8fdea6304109",
   "metadata": {},
   "outputs": [
    {
     "name": "stdout",
     "output_type": "stream",
     "text": [
      "Working on Job: load_data.py\n",
      "Response Status Code 201\n",
      "\n",
      "Working on Job: reload_data.py\n",
      "Response Status Code 201\n",
      "\n"
     ]
    }
   ],
   "source": [
    "for file_name in os.listdir(\"troubleshooting/\"+cde_resource_name_airflow):\n",
    "    cde_airflow.upload_file(cde_resource_name_airflow, \"troubleshooting/\"+cde_resource_name_airflow, file_name, token)"
   ]
  },
  {
   "cell_type": "code",
   "execution_count": 9,
   "id": "09f915b5-7e90-49fb-8cdb-a7aa73eefd1d",
   "metadata": {},
   "outputs": [
    {
     "name": "stdout",
     "output_type": "stream",
     "text": [
      "Working on Job: analog-cct.py\n",
      "Response Status Code 201\n",
      "\n",
      "Working on Job: case_dispatchhistory.py\n",
      "Response Status Code 201\n",
      "\n",
      "Working on Job: contingencyviol.py\n",
      "Response Status Code 201\n",
      "\n",
      "Working on Job: planbranch-nrsl_planbranch-nrss_planconstraint-nrsl_planconstraint-nrss_planconstraint-rtd.py\n",
      "Response Status Code 201\n",
      "\n",
      "Working on Job: util.py\n",
      "Response Status Code 201\n",
      "\n",
      "Working on Job: branch_constraint_constraintbranch.py\n",
      "Response Status Code 201\n",
      "\n"
     ]
    }
   ],
   "source": [
    "for file_name in os.listdir(\"troubleshooting/\"+cde_resource_name_spark):\n",
    "    if \"ipynb\" not in file_name:\n",
    "        cde_spark.upload_file(cde_resource_name_spark, \"troubleshooting/\"+cde_resource_name_spark, file_name, token)"
   ]
  },
  {
   "cell_type": "code",
   "execution_count": 10,
   "id": "ce53b213-2d47-4048-8735-2989f13b1181",
   "metadata": {},
   "outputs": [],
   "source": [
    "load_data_output={\n",
    "  \"name\": \"load_data\",\n",
    "  \"type\": \"airflow\",\n",
    "  \"retentionPolicy\": \"keep_indefinitely\",\n",
    "  \"mounts\": [\n",
    "    {\n",
    "      \"resourceName\": \"airflow-file-resource\"\n",
    "    }\n",
    "  ],\n",
    "  \"airflow\": {\n",
    "    \"dagID\": \"load_data\",\n",
    "    \"dagFile\": \"load_data.py\"\n",
    "  }}"
   ]
  },
  {
   "cell_type": "code",
   "execution_count": 85,
   "id": "828ec148-f0eb-45de-bb41-6b858112006b",
   "metadata": {},
   "outputs": [
    {
     "name": "stdout",
     "output_type": "stream",
     "text": [
      "Working on Job: load_data\n",
      "Response Status Code 201\n",
      "\n",
      "\n",
      "\n"
     ]
    }
   ],
   "source": [
    "cde_airflow.create_job_from_resource(token, load_data_output)"
   ]
  },
  {
   "cell_type": "code",
   "execution_count": 119,
   "id": "06987f15-874d-45ae-8085-233fb26d1379",
   "metadata": {},
   "outputs": [],
   "source": [
    "branch_constraint_constraintbranch_output = {\n",
    "  \"name\": \"branch_constraint_constraintbranch\",\n",
    "  \"type\": \"spark\",\n",
    "  \"retentionPolicy\": \"keep_indefinitely\",\n",
    "  \"mounts\": [\n",
    "    {\n",
    "      \"resourceName\": \"spark-jobs-file-resource\"\n",
    "    }\n",
    "  ],\n",
    "  \"spark\": {\n",
    "    \"file\": \"branch_constraint_constraintbranch.py\",\n",
    "    \"driverMemory\": \"3g\",\n",
    "    \"driverCores\": 1,\n",
    "    \"executorMemory\": \"4g\",\n",
    "    \"executorCores\": 1,\n",
    "    \"conf\": {\n",
    "      \"dex.safariEnabled\": \"false\",\n",
    "      \"spark.driver.env\": \"prod\",\n",
    "      \"spark.driver.extraJavaOptions\": \"-Dsun.security.krb5.debug=true -Dsun.security.spnego.debug=true\",\n",
    "      #\"spark.dynamicAllocation.initialExecutors\": \"24\",\n",
    "      \"spark.dynamicAllocation.maxExecutors\": \"24\",\n",
    "      \"spark.dynamicAllocation.minExecutors\": \"8\",\n",
    "      \"spark.executor.extraJavaOptions\": \"-Dsun.security.krb5.debug=true -Dsun.security.spnego.debug=true\",\n",
    "      \"spark.hadoop.fs.s3a.metadatastore.impl\": \"org.apache.hadoop.fs.s3a.s3guard.NullMetadataStore\",\n",
    "      \"spark.kubernetes.memoryOverheadFactor\": \"0.2\",\n",
    "      \"spark.pyspark.python\": \"python3\",\n",
    "      \"spark.rpc.askTimeout\": \"600\",\n",
    "      \"spark.sql.shuffle.partitions\": \"48\",\n",
    "      \"spark.yarn.access.hadoopFileSystems\": \"s3a://go01-demo/tp-cdp-datalake-landing-prod\"\n",
    "    },\n",
    "    \"logLevel\": \"INFO\"\n",
    "  },\n",
    "  \"schedule\": {\n",
    "    \"enabled\": False,\n",
    "    \"user\": \"pauldefusco\"\n",
    "  }\n",
    "}"
   ]
  },
  {
   "cell_type": "code",
   "execution_count": 120,
   "id": "923b9d14-f41c-46a5-aeba-56713d3d0000",
   "metadata": {},
   "outputs": [
    {
     "name": "stdout",
     "output_type": "stream",
     "text": [
      "Working on Job: branch_constraint_constraintbranch\n",
      "Response Status Code 201\n",
      "\n",
      "\n",
      "\n"
     ]
    }
   ],
   "source": [
    "cde_airflow.create_job_from_resource(token, branch_constraint_constraintbranch_output)"
   ]
  },
  {
   "cell_type": "code",
   "execution_count": 88,
   "id": "92c5a0e1-c230-4496-a9da-d211e155ad40",
   "metadata": {},
   "outputs": [],
   "source": [
    "case_dispatchhistory_output={\n",
    "  \"name\": \"case_dispatchhistory\",\n",
    "  \"type\": \"spark\",\n",
    "  \"created\": \"2022-05-19T21:38:51Z\",\n",
    "  \"modified\": \"2022-06-27T01:54:14Z\",\n",
    "  \"retentionPolicy\": \"keep_indefinitely\",\n",
    "  \"mounts\": [\n",
    "    {\n",
    "      \"resourceName\": \"spark-jobs-file-resource\"\n",
    "    }\n",
    "  ],\n",
    "  \"spark\": {\n",
    "    \"file\": \"case_dispatchhistory.py\",\n",
    "    \"driverMemory\": \"3g\",\n",
    "    \"driverCores\": 1,\n",
    "    \"executorMemory\": \"2g\",\n",
    "    \"executorCores\": 1,\n",
    "    \"conf\": {\n",
    "      \"dex.safariEnabled\": \"false\",\n",
    "      \"spark.driver.env\": \"prod\",\n",
    "      \"spark.driver.extraJavaOptions\": \"-Dsun.security.krb5.debug=true -Dsun.security.spnego.debug=true\",\n",
    "      \"spark.dynamicAllocation.initialExecutors\": \"24\",\n",
    "      \"spark.dynamicAllocation.maxExecutors\": \"24\",\n",
    "      \"spark.dynamicAllocation.minExecutors\": \"8\",\n",
    "      \"spark.executor.extraJavaOptions\": \"-Dsun.security.krb5.debug=true -Dsun.security.spnego.debug=true\",\n",
    "      \"spark.hadoop.fs.s3a.metadatastore.impl\": \"org.apache.hadoop.fs.s3a.s3guard.NullMetadataStore\",\n",
    "      \"spark.kubernetes.memoryOverheadFactor\": \"0.2\",\n",
    "      \"spark.pyspark.python\": \"python3\",\n",
    "      \"spark.rpc.askTimeout\": \"600\",\n",
    "      \"spark.sql.shuffle.partitions\": \"48\",\n",
    "      \"spark.yarn.access.hadoopFileSystems\": \"s3a://go01-demo/tp-cdp-datalake-landing-prod\"\n",
    "    },\n",
    "    \"logLevel\": \"INFO\"\n",
    "  },\n",
    "  \"schedule\": {\n",
    "    \"enabled\": False,\n",
    "    \"user\": \"pauldefusco\"\n",
    "  }\n",
    "}"
   ]
  },
  {
   "cell_type": "code",
   "execution_count": 89,
   "id": "6f5dc68a-aa31-4175-a082-8ebc5bb413f2",
   "metadata": {},
   "outputs": [
    {
     "name": "stdout",
     "output_type": "stream",
     "text": [
      "Working on Job: case_dispatchhistory\n",
      "Response Status Code 201\n",
      "\n",
      "\n",
      "\n"
     ]
    }
   ],
   "source": [
    "cde_airflow.create_job_from_resource(token, case_dispatchhistory_output)"
   ]
  },
  {
   "cell_type": "code",
   "execution_count": 90,
   "id": "35c8905d-0c0b-40ec-bdd1-f4cfe637a1a7",
   "metadata": {},
   "outputs": [],
   "source": [
    "contingencyviol_output={\n",
    "  \"name\": \"contingencyviol\",\n",
    "  \"type\": \"spark\",\n",
    "  \"created\": \"2022-05-19T21:41:16Z\",\n",
    "  \"modified\": \"2022-06-27T01:53:59Z\",\n",
    "  \"retentionPolicy\": \"keep_indefinitely\",\n",
    "  \"mounts\": [\n",
    "    {\n",
    "      \"resourceName\": \"spark-jobs-file-resource\"\n",
    "    }\n",
    "  ],\n",
    "  \"spark\": {\n",
    "    \"file\": \"contingencyviol.py\",\n",
    "    \"driverMemory\": \"3g\",\n",
    "    \"driverCores\": 1,\n",
    "    \"executorMemory\": \"2g\",\n",
    "    \"executorCores\": 1,\n",
    "    \"conf\": {\n",
    "      \"dex.safariEnabled\": \"false\",\n",
    "      \"spark.driver.env\": \"prod\",\n",
    "      \"spark.driver.extraJavaOptions\": \"-Dsun.security.krb5.debug=true -Dsun.security.spnego.debug=true\",\n",
    "      \"spark.dynamicAllocation.initialExecutors\": \"12\",\n",
    "      \"spark.dynamicAllocation.maxExecutors\": \"12\",\n",
    "      \"spark.dynamicAllocation.minExecutors\": \"4\",\n",
    "      \"spark.executor.extraJavaOptions\": \"-Dsun.security.krb5.debug=true -Dsun.security.spnego.debug=true\",\n",
    "      \"spark.hadoop.fs.s3a.metadatastore.impl\": \"org.apache.hadoop.fs.s3a.s3guard.NullMetadataStore\",\n",
    "      \"spark.kubernetes.memoryOverheadFactor\": \"0.2\",\n",
    "      \"spark.pyspark.python\": \"python3\",\n",
    "      \"spark.rpc.askTimeout\": \"600\",\n",
    "      \"spark.sql.shuffle.partitions\": \"48\",\n",
    "      \"spark.yarn.access.hadoopFileSystems\": \"s3a://go01-demo/tp-cdp-datalake-landing-prod\"\n",
    "    },\n",
    "    \"logLevel\": \"INFO\"\n",
    "  },\n",
    "  \"schedule\": {\n",
    "    \"enabled\": False,\n",
    "    \"user\": \"pauldefusco\"\n",
    "  }\n",
    "}"
   ]
  },
  {
   "cell_type": "code",
   "execution_count": 91,
   "id": "b2b48ccc-ca83-4535-a1b1-eaf63b14e808",
   "metadata": {},
   "outputs": [
    {
     "name": "stdout",
     "output_type": "stream",
     "text": [
      "Working on Job: contingencyviol\n",
      "Response Status Code 201\n",
      "\n",
      "\n",
      "\n"
     ]
    }
   ],
   "source": [
    "cde_airflow.create_job_from_resource(token, contingencyviol_output)"
   ]
  },
  {
   "cell_type": "code",
   "execution_count": 92,
   "id": "362c0faa-c20a-42e2-886d-e2abfc0dcbf7",
   "metadata": {},
   "outputs": [],
   "source": [
    "analog_cct_output={\n",
    "  \"name\": \"analog-cct\",\n",
    "  \"type\": \"spark\",\n",
    "  \"created\": \"2022-05-19T21:42:36Z\",\n",
    "  \"modified\": \"2022-06-27T01:53:44Z\",\n",
    "  \"retentionPolicy\": \"keep_indefinitely\",\n",
    "  \"mounts\": [\n",
    "    {\n",
    "      \"resourceName\": \"spark-jobs-file-resource\"\n",
    "    }\n",
    "  ],\n",
    "  \"spark\": {\n",
    "    \"file\": \"analog-cct.py\",\n",
    "    \"driverMemory\": \"3g\",\n",
    "    \"driverCores\": 1,\n",
    "    \"executorMemory\": \"2g\",\n",
    "    \"executorCores\": 1,\n",
    "    \"conf\": {\n",
    "      \"dex.safariEnabled\": \"false\",\n",
    "      \"spark.driver.env\": \"prod\",\n",
    "      \"spark.driver.extraJavaOptions\": \"-Dsun.security.krb5.debug=true -Dsun.security.spnego.debug=true\",\n",
    "      \"spark.dynamicAllocation.initialExecutors\": \"12\",\n",
    "      \"spark.dynamicAllocation.maxExecutors\": \"12\",\n",
    "      \"spark.dynamicAllocation.minExecutors\": \"4\",\n",
    "      \"spark.executor.extraJavaOptions\": \"-Dsun.security.krb5.debug=true -Dsun.security.spnego.debug=true\",\n",
    "      \"spark.hadoop.fs.s3a.metadatastore.impl\": \"org.apache.hadoop.fs.s3a.s3guard.NullMetadataStore\",\n",
    "      \"spark.kubernetes.memoryOverheadFactor\": \"0.2\",\n",
    "      \"spark.pyspark.python\": \"python3\",\n",
    "      \"spark.rpc.askTimeout\": \"600\",\n",
    "      \"spark.sql.shuffle.partitions\": \"48\",\n",
    "      \"spark.yarn.access.hadoopFileSystems\": \"s3a://go01-demo/tp-cdp-datalake-landing-prod\"\n",
    "    },\n",
    "    \"logLevel\": \"INFO\"\n",
    "  },\n",
    "  \"schedule\": {\n",
    "    \"enabled\": False,\n",
    "    \"user\": \"pauldefusco\"\n",
    "  }\n",
    "}"
   ]
  },
  {
   "cell_type": "code",
   "execution_count": 93,
   "id": "c6f66855-65c9-4963-bea6-0b892b374009",
   "metadata": {},
   "outputs": [
    {
     "name": "stdout",
     "output_type": "stream",
     "text": [
      "Working on Job: analog-cct\n",
      "Response Status Code 201\n",
      "\n",
      "\n",
      "\n"
     ]
    }
   ],
   "source": [
    "cde_airflow.create_job_from_resource(token, analog_cct_output)"
   ]
  },
  {
   "cell_type": "code",
   "execution_count": 94,
   "id": "79285c0b-0554-493d-98ad-b53f9ea9717d",
   "metadata": {},
   "outputs": [],
   "source": [
    "planbranch_nrsl_planbranch_nrss_planconstraint_nrsl_planconstraint_nrss_planconstraint_rtd_output={\n",
    "  \"name\": \"planbranch-nrsl_planbranch-nrss_planconstraint-nrsl_planconstraint-nrss_planconstraint-rtd\",\n",
    "  \"type\": \"spark\",\n",
    "  \"created\": \"2022-05-19T21:44:02Z\",\n",
    "  \"modified\": \"2022-06-27T01:53:27Z\",\n",
    "  \"retentionPolicy\": \"keep_indefinitely\",\n",
    "  \"mounts\": [\n",
    "    {\n",
    "      \"resourceName\": \"spark-jobs-file-resource\"\n",
    "    }\n",
    "  ],\n",
    "  \"spark\": {\n",
    "    \"file\": \"planbranch-nrsl_planbranch-nrss_planconstraint-nrsl_planconstraint-nrss_planconstraint-rtd.py\",\n",
    "    \"driverMemory\": \"3g\",\n",
    "    \"driverCores\": 1,\n",
    "    \"executorMemory\": \"2g\",\n",
    "    \"executorCores\": 1,\n",
    "    \"conf\": {\n",
    "      \"dex.safariEnabled\": \"false\",\n",
    "      \"spark.driver.env\": \"prod\",\n",
    "      \"spark.driver.extraJavaOptions\": \"-Dsun.security.krb5.debug=true -Dsun.security.spnego.debug=true\",\n",
    "      \"spark.dynamicAllocation.initialExecutors\": \"24\",\n",
    "      \"spark.dynamicAllocation.maxExecutors\": \"24\",\n",
    "      \"spark.dynamicAllocation.minExecutors\": \"8\",\n",
    "      \"spark.executor.extraJavaOptions\": \"-Dsun.security.krb5.debug=true -Dsun.security.spnego.debug=true\",\n",
    "      \"spark.hadoop.fs.s3a.metadatastore.impl\": \"org.apache.hadoop.fs.s3a.s3guard.NullMetadataStore\",\n",
    "      \"spark.kubernetes.memoryOverheadFactor\": \"0.2\",\n",
    "      \"spark.pyspark.python\": \"python3\",\n",
    "      \"spark.rpc.askTimeout\": \"600\",\n",
    "      \"spark.sql.shuffle.partitions\": \"48\",\n",
    "      \"spark.yarn.access.hadoopFileSystems\": \"s3a://go01-demo/tp-cdp-datalake-landing-prod\"\n",
    "    },\n",
    "    \"logLevel\": \"INFO\"\n",
    "  },\n",
    "  \"schedule\": {\n",
    "    \"enabled\": False,\n",
    "    \"user\": \"pauldefusco\"\n",
    "  }\n",
    "}"
   ]
  },
  {
   "cell_type": "code",
   "execution_count": 95,
   "id": "66777b09-94d3-4553-a650-f286f2d59f41",
   "metadata": {},
   "outputs": [
    {
     "name": "stdout",
     "output_type": "stream",
     "text": [
      "Working on Job: planbranch-nrsl_planbranch-nrss_planconstraint-nrsl_planconstraint-nrss_planconstraint-rtd\n",
      "Response Status Code 201\n",
      "\n",
      "\n",
      "\n"
     ]
    }
   ],
   "source": [
    "cde_airflow.create_job_from_resource(token, planbranch_nrsl_planbranch_nrss_planconstraint_nrsl_planconstraint_nrss_planconstraint_rtd_output)"
   ]
  },
  {
   "cell_type": "code",
   "execution_count": null,
   "id": "346e3c5c-2ec8-4fb1-b934-5467afabe9c0",
   "metadata": {},
   "outputs": [],
   "source": []
  }
 ],
 "metadata": {
  "kernelspec": {
   "display_name": "Python 3 (ipykernel)",
   "language": "python",
   "name": "python3"
  },
  "language_info": {
   "codemirror_mode": {
    "name": "ipython",
    "version": 3
   },
   "file_extension": ".py",
   "mimetype": "text/x-python",
   "name": "python",
   "nbconvert_exporter": "python",
   "pygments_lexer": "ipython3",
   "version": "3.7.13"
  }
 },
 "nbformat": 4,
 "nbformat_minor": 5
}
